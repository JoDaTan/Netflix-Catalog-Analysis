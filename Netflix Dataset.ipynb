{
 "cells": [
  {
   "cell_type": "markdown",
   "id": "40c337b0-8a1f-44d0-822e-e44808d4bb01",
   "metadata": {},
   "source": [
    "# Netflix Catalog Data Analysis"
   ]
  },
  {
   "cell_type": "markdown",
   "id": "039a2a72-0c7d-45b7-8f54-3efc5071653e",
   "metadata": {},
   "source": [
    "The purpose of this project is to practice exploratory data analysis using a dataset on netflix catalog; pandas, seaborn, matplotlib and plotly express."
   ]
  },
  {
   "cell_type": "code",
   "execution_count": 5,
   "id": "c6a88f37-7606-422b-8589-4a42e9a764d3",
   "metadata": {},
   "outputs": [],
   "source": [
    "import pandas as pd\n",
    "from matplotlib import pyplot as plt\n",
    "import seaborn as sns\n",
    "%matplotlib inline"
   ]
  },
  {
   "cell_type": "markdown",
   "id": "57879b90-6ea4-469f-a750-3583ccad0630",
   "metadata": {},
   "source": [
    "### Dataset Importation"
   ]
  },
  {
   "cell_type": "code",
   "execution_count": 14,
   "id": "03c81d4d-ea79-467c-9e11-072bfafa7a6c",
   "metadata": {},
   "outputs": [],
   "source": [
    "netflix = pd.read_csv(\"netflix dataset.csv\")"
   ]
  },
  {
   "cell_type": "markdown",
   "id": "6edbc311-8050-4bd9-8b6e-7b9cfb6eb7bb",
   "metadata": {},
   "source": [
    "## About the dataset"
   ]
  },
  {
   "cell_type": "markdown",
   "id": "2e33f372-69e5-4dba-a6b4-60bee97a6da8",
   "metadata": {},
   "source": [
    "The dataset (netflix.csv) provides detailed information about the movies and series available on Netflix's platform. It includes a variety of metadata that can be used for analyzing trends, exploring patterns, and gaining insights into Netflix's content catalog. The dataset contains the following columns:\n",
    "- Show_Id: A unique identifier for each show.\n",
    "- Category: Indicates whether the content is a movie or a series.\n",
    "- Title: The title of the movie or series.\n",
    "- Director: The director(s) of the content (if applicable).\n",
    "- Cast: Key actors featured in the content.\n",
    "- Country: The country where the movie or series was produced.\n",
    "- Release_Date: The date the content was released (2008 - 2021)\n",
    "- Rating: The content's rating (e.g., PG, R).\n",
    "- Duration: The runtime of movies or the number of seasons for series.\n",
    "- Type: Specifies the genre of the content.\n",
    "- Description: A brief summary or synopsis of the content."
   ]
  },
  {
   "cell_type": "markdown",
   "id": "658ee6ed-1d92-4270-9d13-3043dc4ae3ec",
   "metadata": {},
   "source": [
    "## Data Preprocessing"
   ]
  },
  {
   "cell_type": "code",
   "execution_count": 32,
   "id": "01a8efef-655d-474c-be95-c4e3cf8f1f40",
   "metadata": {},
   "outputs": [
    {
     "data": {
      "text/html": [
       "<div>\n",
       "<style scoped>\n",
       "    .dataframe tbody tr th:only-of-type {\n",
       "        vertical-align: middle;\n",
       "    }\n",
       "\n",
       "    .dataframe tbody tr th {\n",
       "        vertical-align: top;\n",
       "    }\n",
       "\n",
       "    .dataframe thead th {\n",
       "        text-align: right;\n",
       "    }\n",
       "</style>\n",
       "<table border=\"1\" class=\"dataframe\">\n",
       "  <thead>\n",
       "    <tr style=\"text-align: right;\">\n",
       "      <th></th>\n",
       "      <th>Show_Id</th>\n",
       "      <th>Category</th>\n",
       "      <th>Title</th>\n",
       "      <th>Director</th>\n",
       "      <th>Cast</th>\n",
       "      <th>Country</th>\n",
       "      <th>Release_Date</th>\n",
       "      <th>Rating</th>\n",
       "      <th>Duration</th>\n",
       "      <th>Type</th>\n",
       "      <th>Description</th>\n",
       "    </tr>\n",
       "  </thead>\n",
       "  <tbody>\n",
       "    <tr>\n",
       "      <th>0</th>\n",
       "      <td>s1</td>\n",
       "      <td>TV Show</td>\n",
       "      <td>3%</td>\n",
       "      <td>NaN</td>\n",
       "      <td>João Miguel, Bianca Comparato, Michel Gomes, R...</td>\n",
       "      <td>Brazil</td>\n",
       "      <td>August 14, 2020</td>\n",
       "      <td>TV-MA</td>\n",
       "      <td>4 Seasons</td>\n",
       "      <td>International TV Shows, TV Dramas, TV Sci-Fi &amp;...</td>\n",
       "      <td>In a future where the elite inhabit an island ...</td>\n",
       "    </tr>\n",
       "    <tr>\n",
       "      <th>1</th>\n",
       "      <td>s2</td>\n",
       "      <td>Movie</td>\n",
       "      <td>07:19</td>\n",
       "      <td>Jorge Michel Grau</td>\n",
       "      <td>Demián Bichir, Héctor Bonilla, Oscar Serrano, ...</td>\n",
       "      <td>Mexico</td>\n",
       "      <td>December 23, 2016</td>\n",
       "      <td>TV-MA</td>\n",
       "      <td>93 min</td>\n",
       "      <td>Dramas, International Movies</td>\n",
       "      <td>After a devastating earthquake hits Mexico Cit...</td>\n",
       "    </tr>\n",
       "  </tbody>\n",
       "</table>\n",
       "</div>"
      ],
      "text/plain": [
       "  Show_Id Category  Title           Director  \\\n",
       "0      s1  TV Show     3%                NaN   \n",
       "1      s2    Movie  07:19  Jorge Michel Grau   \n",
       "\n",
       "                                                Cast Country  \\\n",
       "0  João Miguel, Bianca Comparato, Michel Gomes, R...  Brazil   \n",
       "1  Demián Bichir, Héctor Bonilla, Oscar Serrano, ...  Mexico   \n",
       "\n",
       "        Release_Date Rating   Duration  \\\n",
       "0    August 14, 2020  TV-MA  4 Seasons   \n",
       "1  December 23, 2016  TV-MA     93 min   \n",
       "\n",
       "                                                Type  \\\n",
       "0  International TV Shows, TV Dramas, TV Sci-Fi &...   \n",
       "1                       Dramas, International Movies   \n",
       "\n",
       "                                         Description  \n",
       "0  In a future where the elite inhabit an island ...  \n",
       "1  After a devastating earthquake hits Mexico Cit...  "
      ]
     },
     "execution_count": 32,
     "metadata": {},
     "output_type": "execute_result"
    }
   ],
   "source": [
    "netflix.head(2)"
   ]
  },
  {
   "cell_type": "code",
   "execution_count": 34,
   "id": "c4281040-420b-4c89-8c96-068846dfc4cb",
   "metadata": {},
   "outputs": [
    {
     "data": {
      "text/html": [
       "<div>\n",
       "<style scoped>\n",
       "    .dataframe tbody tr th:only-of-type {\n",
       "        vertical-align: middle;\n",
       "    }\n",
       "\n",
       "    .dataframe tbody tr th {\n",
       "        vertical-align: top;\n",
       "    }\n",
       "\n",
       "    .dataframe thead th {\n",
       "        text-align: right;\n",
       "    }\n",
       "</style>\n",
       "<table border=\"1\" class=\"dataframe\">\n",
       "  <thead>\n",
       "    <tr style=\"text-align: right;\">\n",
       "      <th></th>\n",
       "      <th>Show_Id</th>\n",
       "      <th>Category</th>\n",
       "      <th>Title</th>\n",
       "      <th>Director</th>\n",
       "      <th>Cast</th>\n",
       "      <th>Country</th>\n",
       "      <th>Release_Date</th>\n",
       "      <th>Rating</th>\n",
       "      <th>Duration</th>\n",
       "      <th>Type</th>\n",
       "      <th>Description</th>\n",
       "    </tr>\n",
       "  </thead>\n",
       "  <tbody>\n",
       "    <tr>\n",
       "      <th>7787</th>\n",
       "      <td>s7786</td>\n",
       "      <td>TV Show</td>\n",
       "      <td>Zumbo's Just Desserts</td>\n",
       "      <td>NaN</td>\n",
       "      <td>Adriano Zumbo, Rachel Khoo</td>\n",
       "      <td>Australia</td>\n",
       "      <td>October 31, 2020</td>\n",
       "      <td>TV-PG</td>\n",
       "      <td>1 Season</td>\n",
       "      <td>International TV Shows, Reality TV</td>\n",
       "      <td>Dessert wizard Adriano Zumbo looks for the nex...</td>\n",
       "    </tr>\n",
       "    <tr>\n",
       "      <th>7788</th>\n",
       "      <td>s7787</td>\n",
       "      <td>Movie</td>\n",
       "      <td>ZZ TOP: THAT LITTLE OL' BAND FROM TEXAS</td>\n",
       "      <td>Sam Dunn</td>\n",
       "      <td>NaN</td>\n",
       "      <td>United Kingdom, Canada, United States</td>\n",
       "      <td>March 1, 2020</td>\n",
       "      <td>TV-MA</td>\n",
       "      <td>90 min</td>\n",
       "      <td>Documentaries, Music &amp; Musicals</td>\n",
       "      <td>This documentary delves into the mystique behi...</td>\n",
       "    </tr>\n",
       "  </tbody>\n",
       "</table>\n",
       "</div>"
      ],
      "text/plain": [
       "     Show_Id Category                                    Title  Director  \\\n",
       "7787   s7786  TV Show                    Zumbo's Just Desserts       NaN   \n",
       "7788   s7787    Movie  ZZ TOP: THAT LITTLE OL' BAND FROM TEXAS  Sam Dunn   \n",
       "\n",
       "                            Cast                                Country  \\\n",
       "7787  Adriano Zumbo, Rachel Khoo                              Australia   \n",
       "7788                         NaN  United Kingdom, Canada, United States   \n",
       "\n",
       "          Release_Date Rating  Duration                                Type  \\\n",
       "7787  October 31, 2020  TV-PG  1 Season  International TV Shows, Reality TV   \n",
       "7788     March 1, 2020  TV-MA    90 min     Documentaries, Music & Musicals   \n",
       "\n",
       "                                            Description  \n",
       "7787  Dessert wizard Adriano Zumbo looks for the nex...  \n",
       "7788  This documentary delves into the mystique behi...  "
      ]
     },
     "execution_count": 34,
     "metadata": {},
     "output_type": "execute_result"
    }
   ],
   "source": [
    "netflix.tail(2)"
   ]
  },
  {
   "cell_type": "code",
   "execution_count": 36,
   "id": "a3d502aa-1c2f-4438-8540-a3a67155d864",
   "metadata": {},
   "outputs": [
    {
     "data": {
      "text/html": [
       "<div>\n",
       "<style scoped>\n",
       "    .dataframe tbody tr th:only-of-type {\n",
       "        vertical-align: middle;\n",
       "    }\n",
       "\n",
       "    .dataframe tbody tr th {\n",
       "        vertical-align: top;\n",
       "    }\n",
       "\n",
       "    .dataframe thead th {\n",
       "        text-align: right;\n",
       "    }\n",
       "</style>\n",
       "<table border=\"1\" class=\"dataframe\">\n",
       "  <thead>\n",
       "    <tr style=\"text-align: right;\">\n",
       "      <th></th>\n",
       "      <th>Show_Id</th>\n",
       "      <th>Category</th>\n",
       "      <th>Title</th>\n",
       "      <th>Director</th>\n",
       "      <th>Cast</th>\n",
       "      <th>Country</th>\n",
       "      <th>Release_Date</th>\n",
       "      <th>Rating</th>\n",
       "      <th>Duration</th>\n",
       "      <th>Type</th>\n",
       "      <th>Description</th>\n",
       "    </tr>\n",
       "  </thead>\n",
       "  <tbody>\n",
       "    <tr>\n",
       "      <th>6112</th>\n",
       "      <td>s6112</td>\n",
       "      <td>Movie</td>\n",
       "      <td>The Ballad of Lefty Brown</td>\n",
       "      <td>Jared Moshé</td>\n",
       "      <td>Bill Pullman, Kathy Baker, Jim Caviezel, Josep...</td>\n",
       "      <td>United States</td>\n",
       "      <td>February 7, 2020</td>\n",
       "      <td>R</td>\n",
       "      <td>112 min</td>\n",
       "      <td>Dramas</td>\n",
       "      <td>After his longtime partner is assassinated, a ...</td>\n",
       "    </tr>\n",
       "    <tr>\n",
       "      <th>5791</th>\n",
       "      <td>s5791</td>\n",
       "      <td>Movie</td>\n",
       "      <td>Star Wars: Episode VIII: The Last Jedi</td>\n",
       "      <td>Rian Johnson</td>\n",
       "      <td>Mark Hamill, Carrie Fisher, Adam Driver, Daisy...</td>\n",
       "      <td>United States</td>\n",
       "      <td>June 26, 2018</td>\n",
       "      <td>PG-13</td>\n",
       "      <td>152 min</td>\n",
       "      <td>Action &amp; Adventure, Children &amp; Family Movies, ...</td>\n",
       "      <td>As the remnants of the Resistance flee Kylo Re...</td>\n",
       "    </tr>\n",
       "    <tr>\n",
       "      <th>4373</th>\n",
       "      <td>s4374</td>\n",
       "      <td>TV Show</td>\n",
       "      <td>Mystic Pop-up Bar</td>\n",
       "      <td>NaN</td>\n",
       "      <td>Hwang Jung-eum, Yook Sung-jae, Choi Won-young,...</td>\n",
       "      <td>South Korea</td>\n",
       "      <td>May 21, 2020</td>\n",
       "      <td>TV-MA</td>\n",
       "      <td>1 Season</td>\n",
       "      <td>International TV Shows, Korean TV Shows, TV Co...</td>\n",
       "      <td>A young man with a unique ability begins worki...</td>\n",
       "    </tr>\n",
       "    <tr>\n",
       "      <th>3591</th>\n",
       "      <td>s3592</td>\n",
       "      <td>TV Show</td>\n",
       "      <td>LEGO Ninjago</td>\n",
       "      <td>NaN</td>\n",
       "      <td>Michael Adamthwaite, Paul Dobson, Kelly Metzge...</td>\n",
       "      <td>Canada</td>\n",
       "      <td>November 1, 2020</td>\n",
       "      <td>TV-Y7</td>\n",
       "      <td>2 Seasons</td>\n",
       "      <td>Kids' TV</td>\n",
       "      <td>While fighting foes across Ninjago City and be...</td>\n",
       "    </tr>\n",
       "  </tbody>\n",
       "</table>\n",
       "</div>"
      ],
      "text/plain": [
       "     Show_Id Category                                   Title      Director  \\\n",
       "6112   s6112    Movie               The Ballad of Lefty Brown   Jared Moshé   \n",
       "5791   s5791    Movie  Star Wars: Episode VIII: The Last Jedi  Rian Johnson   \n",
       "4373   s4374  TV Show                       Mystic Pop-up Bar           NaN   \n",
       "3591   s3592  TV Show                            LEGO Ninjago           NaN   \n",
       "\n",
       "                                                   Cast        Country  \\\n",
       "6112  Bill Pullman, Kathy Baker, Jim Caviezel, Josep...  United States   \n",
       "5791  Mark Hamill, Carrie Fisher, Adam Driver, Daisy...  United States   \n",
       "4373  Hwang Jung-eum, Yook Sung-jae, Choi Won-young,...    South Korea   \n",
       "3591  Michael Adamthwaite, Paul Dobson, Kelly Metzge...         Canada   \n",
       "\n",
       "          Release_Date Rating   Duration  \\\n",
       "6112  February 7, 2020      R    112 min   \n",
       "5791     June 26, 2018  PG-13    152 min   \n",
       "4373      May 21, 2020  TV-MA   1 Season   \n",
       "3591  November 1, 2020  TV-Y7  2 Seasons   \n",
       "\n",
       "                                                   Type  \\\n",
       "6112                                             Dramas   \n",
       "5791  Action & Adventure, Children & Family Movies, ...   \n",
       "4373  International TV Shows, Korean TV Shows, TV Co...   \n",
       "3591                                           Kids' TV   \n",
       "\n",
       "                                            Description  \n",
       "6112  After his longtime partner is assassinated, a ...  \n",
       "5791  As the remnants of the Resistance flee Kylo Re...  \n",
       "4373  A young man with a unique ability begins worki...  \n",
       "3591  While fighting foes across Ninjago City and be...  "
      ]
     },
     "execution_count": 36,
     "metadata": {},
     "output_type": "execute_result"
    }
   ],
   "source": [
    "netflix.sample(4)"
   ]
  },
  {
   "cell_type": "code",
   "execution_count": 57,
   "id": "06cf2511-0236-4563-be12-c4c42d22d668",
   "metadata": {},
   "outputs": [
    {
     "data": {
      "text/plain": [
       "(7789, 11)"
      ]
     },
     "execution_count": 57,
     "metadata": {},
     "output_type": "execute_result"
    }
   ],
   "source": [
    "netflix.shape"
   ]
  },
  {
   "cell_type": "code",
   "execution_count": 59,
   "id": "1d90c2fc-c359-4100-ad95-bce53eead89e",
   "metadata": {},
   "outputs": [
    {
     "name": "stdout",
     "output_type": "stream",
     "text": [
      "<class 'pandas.core.frame.DataFrame'>\n",
      "RangeIndex: 7789 entries, 0 to 7788\n",
      "Data columns (total 11 columns):\n",
      " #   Column        Non-Null Count  Dtype \n",
      "---  ------        --------------  ----- \n",
      " 0   Show_Id       7789 non-null   object\n",
      " 1   Category      7789 non-null   object\n",
      " 2   Title         7789 non-null   object\n",
      " 3   Director      5401 non-null   object\n",
      " 4   Cast          7071 non-null   object\n",
      " 5   Country       7282 non-null   object\n",
      " 6   Release_Date  7779 non-null   object\n",
      " 7   Rating        7782 non-null   object\n",
      " 8   Duration      7789 non-null   object\n",
      " 9   Type          7789 non-null   object\n",
      " 10  Description   7789 non-null   object\n",
      "dtypes: object(11)\n",
      "memory usage: 669.5+ KB\n"
     ]
    }
   ],
   "source": [
    "netflix.info()"
   ]
  },
  {
   "cell_type": "markdown",
   "id": "c1fd7f4e-66a9-42df-80b1-3f7bc070094b",
   "metadata": {},
   "source": [
    "To ensure accuracy of the dataset, the following column datatypes need to be modified;\n",
    "- category\n",
    "- Rating\n",
    "- Type\n",
    "  Also, the Release_date column will be modified into a datetime object so that timeseries analysis will be more accurate."
   ]
  },
  {
   "cell_type": "code",
   "execution_count": 61,
   "id": "9d7858cb-3f6d-4151-94ee-df0472f4cf1e",
   "metadata": {},
   "outputs": [],
   "source": [
    "netflix['Release_Date'] = netflix['Release_Date'].apply(lambda date_string:date_string.strip() if isinstance(date_string, str) else date_string)"
   ]
  },
  {
   "cell_type": "code",
   "execution_count": 63,
   "id": "8a965214-f851-4e8f-814d-4a67a893460a",
   "metadata": {},
   "outputs": [],
   "source": [
    "netflix['Category'] = netflix['Category'].astype(\"category\")\n",
    "netflix['Rating'] = netflix['Rating'].astype('category')\n",
    "netflix['Release_Date'] = pd.to_datetime(netflix['Release_Date'], format = '%B %d, %Y')"
   ]
  },
  {
   "cell_type": "code",
   "execution_count": 65,
   "id": "0f2df143-d66e-4214-b20d-e1c9436fa402",
   "metadata": {},
   "outputs": [
    {
     "name": "stdout",
     "output_type": "stream",
     "text": [
      "<class 'pandas.core.frame.DataFrame'>\n",
      "RangeIndex: 7789 entries, 0 to 7788\n",
      "Data columns (total 11 columns):\n",
      " #   Column        Non-Null Count  Dtype         \n",
      "---  ------        --------------  -----         \n",
      " 0   Show_Id       7789 non-null   object        \n",
      " 1   Category      7789 non-null   category      \n",
      " 2   Title         7789 non-null   object        \n",
      " 3   Director      5401 non-null   object        \n",
      " 4   Cast          7071 non-null   object        \n",
      " 5   Country       7282 non-null   object        \n",
      " 6   Release_Date  7779 non-null   datetime64[ns]\n",
      " 7   Rating        7782 non-null   category      \n",
      " 8   Duration      7789 non-null   object        \n",
      " 9   Type          7789 non-null   object        \n",
      " 10  Description   7789 non-null   object        \n",
      "dtypes: category(2), datetime64[ns](1), object(8)\n",
      "memory usage: 563.8+ KB\n"
     ]
    }
   ],
   "source": [
    "netflix.info()"
   ]
  },
  {
   "cell_type": "code",
   "execution_count": 67,
   "id": "32cd205d-3c94-4cab-90b8-f13f36faec8b",
   "metadata": {},
   "outputs": [],
   "source": [
    "netflix.drop_duplicates(inplace = True)"
   ]
  },
  {
   "cell_type": "code",
   "execution_count": 69,
   "id": "186d0060-c200-4446-abae-55eed2a8d3de",
   "metadata": {},
   "outputs": [
    {
     "data": {
      "text/html": [
       "<div>\n",
       "<style scoped>\n",
       "    .dataframe tbody tr th:only-of-type {\n",
       "        vertical-align: middle;\n",
       "    }\n",
       "\n",
       "    .dataframe tbody tr th {\n",
       "        vertical-align: top;\n",
       "    }\n",
       "\n",
       "    .dataframe thead th {\n",
       "        text-align: right;\n",
       "    }\n",
       "</style>\n",
       "<table border=\"1\" class=\"dataframe\">\n",
       "  <thead>\n",
       "    <tr style=\"text-align: right;\">\n",
       "      <th></th>\n",
       "      <th>Show_Id</th>\n",
       "      <th>Category</th>\n",
       "      <th>Title</th>\n",
       "      <th>Director</th>\n",
       "      <th>Cast</th>\n",
       "      <th>Country</th>\n",
       "      <th>Release_Date</th>\n",
       "      <th>Rating</th>\n",
       "      <th>Duration</th>\n",
       "      <th>Type</th>\n",
       "      <th>Description</th>\n",
       "    </tr>\n",
       "  </thead>\n",
       "  <tbody>\n",
       "    <tr>\n",
       "      <th>0</th>\n",
       "      <td>s1</td>\n",
       "      <td>TV Show</td>\n",
       "      <td>3%</td>\n",
       "      <td>NaN</td>\n",
       "      <td>João Miguel, Bianca Comparato, Michel Gomes, R...</td>\n",
       "      <td>Brazil</td>\n",
       "      <td>2020-08-14</td>\n",
       "      <td>TV-MA</td>\n",
       "      <td>4 Seasons</td>\n",
       "      <td>International TV Shows, TV Dramas, TV Sci-Fi &amp;...</td>\n",
       "      <td>In a future where the elite inhabit an island ...</td>\n",
       "    </tr>\n",
       "    <tr>\n",
       "      <th>1</th>\n",
       "      <td>s2</td>\n",
       "      <td>Movie</td>\n",
       "      <td>07:19</td>\n",
       "      <td>Jorge Michel Grau</td>\n",
       "      <td>Demián Bichir, Héctor Bonilla, Oscar Serrano, ...</td>\n",
       "      <td>Mexico</td>\n",
       "      <td>2016-12-23</td>\n",
       "      <td>TV-MA</td>\n",
       "      <td>93 min</td>\n",
       "      <td>Dramas, International Movies</td>\n",
       "      <td>After a devastating earthquake hits Mexico Cit...</td>\n",
       "    </tr>\n",
       "    <tr>\n",
       "      <th>2</th>\n",
       "      <td>s3</td>\n",
       "      <td>Movie</td>\n",
       "      <td>23:59</td>\n",
       "      <td>Gilbert Chan</td>\n",
       "      <td>Tedd Chan, Stella Chung, Henley Hii, Lawrence ...</td>\n",
       "      <td>Singapore</td>\n",
       "      <td>2018-12-20</td>\n",
       "      <td>R</td>\n",
       "      <td>78 min</td>\n",
       "      <td>Horror Movies, International Movies</td>\n",
       "      <td>When an army recruit is found dead, his fellow...</td>\n",
       "    </tr>\n",
       "  </tbody>\n",
       "</table>\n",
       "</div>"
      ],
      "text/plain": [
       "  Show_Id Category  Title           Director  \\\n",
       "0      s1  TV Show     3%                NaN   \n",
       "1      s2    Movie  07:19  Jorge Michel Grau   \n",
       "2      s3    Movie  23:59       Gilbert Chan   \n",
       "\n",
       "                                                Cast    Country Release_Date  \\\n",
       "0  João Miguel, Bianca Comparato, Michel Gomes, R...     Brazil   2020-08-14   \n",
       "1  Demián Bichir, Héctor Bonilla, Oscar Serrano, ...     Mexico   2016-12-23   \n",
       "2  Tedd Chan, Stella Chung, Henley Hii, Lawrence ...  Singapore   2018-12-20   \n",
       "\n",
       "  Rating   Duration                                               Type  \\\n",
       "0  TV-MA  4 Seasons  International TV Shows, TV Dramas, TV Sci-Fi &...   \n",
       "1  TV-MA     93 min                       Dramas, International Movies   \n",
       "2      R     78 min                Horror Movies, International Movies   \n",
       "\n",
       "                                         Description  \n",
       "0  In a future where the elite inhabit an island ...  \n",
       "1  After a devastating earthquake hits Mexico Cit...  \n",
       "2  When an army recruit is found dead, his fellow...  "
      ]
     },
     "execution_count": 69,
     "metadata": {},
     "output_type": "execute_result"
    }
   ],
   "source": [
    "netflix.reset_index(drop = True).head(3)"
   ]
  },
  {
   "cell_type": "code",
   "execution_count": 71,
   "id": "95d6efb0-5be9-4ce9-8f0c-d9c175f4a0b4",
   "metadata": {},
   "outputs": [
    {
     "data": {
      "text/plain": [
       "Show_Id            0\n",
       "Category           0\n",
       "Title              0\n",
       "Director        2388\n",
       "Cast             718\n",
       "Country          507\n",
       "Release_Date      10\n",
       "Rating             7\n",
       "Duration           0\n",
       "Type               0\n",
       "Description        0\n",
       "dtype: int64"
      ]
     },
     "execution_count": 71,
     "metadata": {},
     "output_type": "execute_result"
    }
   ],
   "source": [
    "netflix.isna().sum()"
   ]
  },
  {
   "cell_type": "markdown",
   "id": "d483618f-fc4d-454a-ba4c-75aa688b8567",
   "metadata": {},
   "source": [
    "### What's the distribution of netflix content by Category?"
   ]
  },
  {
   "cell_type": "code",
   "execution_count": 74,
   "id": "17582d15-9104-43ad-87dd-d218daaf6477",
   "metadata": {},
   "outputs": [
    {
     "data": {
      "image/png": "[encoded data removed]",
      "text/plain": [
       "<Figure size 600x300 with 1 Axes>"
      ]
     },
     "metadata": {},
     "output_type": "display_data"
    }
   ],
   "source": [
    "fig = plt.figure(figsize = (6,3))\n",
    "\n",
    "sns.set_style('ticks')\n",
    "sns.countplot(data = netflix, x = netflix['Category'])\n",
    "plt.title('Distribution of Netflix content by Category')\n",
    "plt.show()"
   ]
  },
  {
   "cell_type": "markdown",
   "id": "8341e7ed-80b0-4e7c-8d87-5a930d55e1f4",
   "metadata": {},
   "source": [
    "### Distribution of netflix content by Type"
   ]
  },
  {
   "cell_type": "code",
   "execution_count": 77,
   "id": "4bffb0b5-4197-494a-a141-f843dd6dcf87",
   "metadata": {},
   "outputs": [
    {
     "data": {
      "text/plain": [
       "Type\n",
       "Documentaries                                       334\n",
       "Stand-Up Comedy                                     321\n",
       "Dramas, International Movies                        320\n",
       "Comedies, Dramas, International Movies              243\n",
       "Dramas, Independent Movies, International Movies    215\n",
       "Kids' TV                                            205\n",
       "Children & Family Movies                            177\n",
       "Documentaries, International Movies                 172\n",
       "Children & Family Movies, Comedies                  169\n",
       "Comedies, International Movies                      161\n",
       "Name: count, dtype: int64"
      ]
     },
     "execution_count": 77,
     "metadata": {},
     "output_type": "execute_result"
    }
   ],
   "source": [
    "netflix['Type'] = netflix['Type'].astype('category')\n",
    "netflix['Type'].value_counts().head(10)\n",
    "#top_10_type = \n",
    "\n",
    "# The output from the above code is a series that needs to be converted to a dataframe so we can plot.\n",
    "\n",
    "# top_10_type = top_10_type.reset_index()\n",
    "# top_10_type.columns = ['Type', 'Count']\n",
    "\n",
    "# sns.countplot(data = top_10_type, y = 'Type')\n",
    "# plt.show()"
   ]
  },
  {
   "cell_type": "markdown",
   "id": "03886d44-84aa-4898-8892-1b9aa9bc8cd2",
   "metadata": {},
   "source": [
    "### Content Distribution by Ratings"
   ]
  },
  {
   "cell_type": "code",
   "execution_count": 80,
   "id": "b9c2db73-770f-4f7a-9c45-8e9906020611",
   "metadata": {},
   "outputs": [
    {
     "data": {
      "image/png": "[encoded data removed]",
      "text/plain": [
       "<Figure size 1000x300 with 1 Axes>"
      ]
     },
     "metadata": {},
     "output_type": "display_data"
    }
   ],
   "source": [
    "fig = plt.figure(figsize = (10,3))\n",
    "\n",
    "sns.set_style('ticks')\n",
    "sns.countplot(data = netflix, x = netflix['Rating'])\n",
    "plt.title('Distribution of Netflix content by Rating')\n",
    "plt.show()"
   ]
  },
  {
   "cell_type": "markdown",
   "id": "427583a7-6a97-470b-8815-14b1f72bdd5d",
   "metadata": {},
   "source": [
    "### Most popular actor"
   ]
  },
  {
   "cell_type": "code",
   "execution_count": 226,
   "id": "aff5f5e9-990f-41e9-8031-41dc8b28bb96",
   "metadata": {},
   "outputs": [
    {
     "name": "stdout",
     "output_type": "stream",
     "text": [
      "[(' Anupam Kher', 38), (' Takahiro Sakurai', 28), (' Om Puri', 27), ('Shah Rukh Khan', 27), (' Boman Irani', 25), (' Paresh Rawal', 24), (' Andrea Libman', 24), (' Yuki Kaji', 23), ('Akshay Kumar', 22), (' Vincent Tong', 22)]\n"
     ]
    }
   ],
   "source": [
    "# Since there are a number of actors for each movie/series in the dataset, \n",
    "# I'll need a list t collect all actors for all the movie/series that appear in the dataset \n",
    "\n",
    "cast = netflix.dropna(subset=['Cast'])\n",
    "\n",
    "flat_cast_list = netflix['Cast'].apply(lambda x:x.strip().split(',') if isinstance(x, str) else []).sum()\n",
    "\n",
    "# next I need to count the number of times an actor appears in the list, this will give me number of movies they occur in\n",
    "\n",
    "from collections import Counter\n",
    "\n",
    "actor_count = Counter(flat_cast_list)\n",
    "top_10_actors = actor_count.most_common(10)\n",
    "\n",
    "print(top_10_actors)"
   ]
  },
  {
   "cell_type": "markdown",
   "id": "82dbed6e-b0d6-497c-ae93-1b563f08d1cd",
   "metadata": {},
   "source": [
    "### Most popular Director"
   ]
  },
  {
   "cell_type": "code",
   "execution_count": 156,
   "id": "1d6f145c-2cde-4297-86b9-187b3e56661f",
   "metadata": {},
   "outputs": [
    {
     "data": {
      "text/plain": [
       "Director\n",
       "Raúl Campos, Jan Suter    18\n",
       "Marcus Raboy              16\n",
       "Jay Karas                 14\n",
       "Cathy Garcia-Molina       13\n",
       "Martin Scorsese           12\n",
       "Jay Chapman               12\n",
       "Youssef Chahine           12\n",
       "Steven Spielberg          10\n",
       "David Dhawan               9\n",
       "Ryan Polito                8\n",
       "Name: Director, dtype: int64"
      ]
     },
     "execution_count": 156,
     "metadata": {},
     "output_type": "execute_result"
    }
   ],
   "source": [
    "netflix.groupby(dropna = True, by = 'Director')['Director'].count().sort_values(ascending = False).head(10)"
   ]
  },
  {
   "cell_type": "markdown",
   "id": "8fa97719-de4a-4fc8-9fc7-b0af876fd389",
   "metadata": {},
   "source": [
    "## Netflix Timeseries Analysis"
   ]
  },
  {
   "cell_type": "markdown",
   "id": "9e28856c-266c-4df6-8e21-23c9cc4676b2",
   "metadata": {},
   "source": [
    "Here, we'll explore the dataset to identify the release by year, also monthly patterns of the movies."
   ]
  },
  {
   "cell_type": "code",
   "execution_count": 86,
   "id": "c0cf2215-9807-4148-a875-15bb84c50d95",
   "metadata": {},
   "outputs": [
    {
     "data": {
      "text/html": [
       "<div>\n",
       "<style scoped>\n",
       "    .dataframe tbody tr th:only-of-type {\n",
       "        vertical-align: middle;\n",
       "    }\n",
       "\n",
       "    .dataframe tbody tr th {\n",
       "        vertical-align: top;\n",
       "    }\n",
       "\n",
       "    .dataframe thead th {\n",
       "        text-align: right;\n",
       "    }\n",
       "</style>\n",
       "<table border=\"1\" class=\"dataframe\">\n",
       "  <thead>\n",
       "    <tr style=\"text-align: right;\">\n",
       "      <th></th>\n",
       "      <th>Show_Id</th>\n",
       "      <th>Category</th>\n",
       "      <th>Title</th>\n",
       "      <th>Director</th>\n",
       "      <th>Cast</th>\n",
       "      <th>Country</th>\n",
       "      <th>Release_Date</th>\n",
       "      <th>Rating</th>\n",
       "      <th>Duration</th>\n",
       "      <th>Type</th>\n",
       "      <th>Description</th>\n",
       "    </tr>\n",
       "  </thead>\n",
       "  <tbody>\n",
       "    <tr>\n",
       "      <th>0</th>\n",
       "      <td>s1</td>\n",
       "      <td>TV Show</td>\n",
       "      <td>3%</td>\n",
       "      <td>NaN</td>\n",
       "      <td>João Miguel, Bianca Comparato, Michel Gomes, R...</td>\n",
       "      <td>Brazil</td>\n",
       "      <td>2020-08-14</td>\n",
       "      <td>TV-MA</td>\n",
       "      <td>4 Seasons</td>\n",
       "      <td>International TV Shows, TV Dramas, TV Sci-Fi &amp;...</td>\n",
       "      <td>In a future where the elite inhabit an island ...</td>\n",
       "    </tr>\n",
       "    <tr>\n",
       "      <th>1</th>\n",
       "      <td>s2</td>\n",
       "      <td>Movie</td>\n",
       "      <td>07:19</td>\n",
       "      <td>Jorge Michel Grau</td>\n",
       "      <td>Demián Bichir, Héctor Bonilla, Oscar Serrano, ...</td>\n",
       "      <td>Mexico</td>\n",
       "      <td>2016-12-23</td>\n",
       "      <td>TV-MA</td>\n",
       "      <td>93 min</td>\n",
       "      <td>Dramas, International Movies</td>\n",
       "      <td>After a devastating earthquake hits Mexico Cit...</td>\n",
       "    </tr>\n",
       "  </tbody>\n",
       "</table>\n",
       "</div>"
      ],
      "text/plain": [
       "  Show_Id Category  Title           Director  \\\n",
       "0      s1  TV Show     3%                NaN   \n",
       "1      s2    Movie  07:19  Jorge Michel Grau   \n",
       "\n",
       "                                                Cast Country Release_Date  \\\n",
       "0  João Miguel, Bianca Comparato, Michel Gomes, R...  Brazil   2020-08-14   \n",
       "1  Demián Bichir, Héctor Bonilla, Oscar Serrano, ...  Mexico   2016-12-23   \n",
       "\n",
       "  Rating   Duration                                               Type  \\\n",
       "0  TV-MA  4 Seasons  International TV Shows, TV Dramas, TV Sci-Fi &...   \n",
       "1  TV-MA     93 min                       Dramas, International Movies   \n",
       "\n",
       "                                         Description  \n",
       "0  In a future where the elite inhabit an island ...  \n",
       "1  After a devastating earthquake hits Mexico Cit...  "
      ]
     },
     "execution_count": 86,
     "metadata": {},
     "output_type": "execute_result"
    }
   ],
   "source": [
    "netflix.head(2)"
   ]
  },
  {
   "cell_type": "code",
   "execution_count": 104,
   "id": "d387399a-8eb2-4724-a833-8fae9c3ea7f9",
   "metadata": {},
   "outputs": [
    {
     "data": {
      "text/html": [
       "<div>\n",
       "<style scoped>\n",
       "    .dataframe tbody tr th:only-of-type {\n",
       "        vertical-align: middle;\n",
       "    }\n",
       "\n",
       "    .dataframe tbody tr th {\n",
       "        vertical-align: top;\n",
       "    }\n",
       "\n",
       "    .dataframe thead th {\n",
       "        text-align: right;\n",
       "    }\n",
       "</style>\n",
       "<table border=\"1\" class=\"dataframe\">\n",
       "  <thead>\n",
       "    <tr style=\"text-align: right;\">\n",
       "      <th></th>\n",
       "      <th>Show_Id</th>\n",
       "      <th>Category</th>\n",
       "      <th>Title</th>\n",
       "      <th>Director</th>\n",
       "      <th>Cast</th>\n",
       "      <th>Country</th>\n",
       "      <th>Release_Date</th>\n",
       "      <th>Rating</th>\n",
       "      <th>Duration</th>\n",
       "      <th>Type</th>\n",
       "      <th>Description</th>\n",
       "      <th>Release_year</th>\n",
       "      <th>Release_month</th>\n",
       "    </tr>\n",
       "  </thead>\n",
       "  <tbody>\n",
       "    <tr>\n",
       "      <th>6914</th>\n",
       "      <td>s6913</td>\n",
       "      <td>Movie</td>\n",
       "      <td>The Sunshine Makers</td>\n",
       "      <td>Cosmo Feilding-Mellen</td>\n",
       "      <td>NaN</td>\n",
       "      <td>United Kingdom</td>\n",
       "      <td>2017-03-09</td>\n",
       "      <td>TV-MA</td>\n",
       "      <td>91 min</td>\n",
       "      <td>Documentaries, International Movies</td>\n",
       "      <td>Take a trip and witness the rise and fall of T...</td>\n",
       "      <td>2017.0</td>\n",
       "      <td>3.0</td>\n",
       "    </tr>\n",
       "    <tr>\n",
       "      <th>3508</th>\n",
       "      <td>s3509</td>\n",
       "      <td>Movie</td>\n",
       "      <td>Laatu</td>\n",
       "      <td>Manav Shah</td>\n",
       "      <td>Gagan Kokri, Aditi Sharma, Karamjit Anmol, Sar...</td>\n",
       "      <td>India</td>\n",
       "      <td>2019-05-02</td>\n",
       "      <td>TV-PG</td>\n",
       "      <td>116 min</td>\n",
       "      <td>Comedies, Dramas, International Movies</td>\n",
       "      <td>A man who hopes to bring light to his village ...</td>\n",
       "      <td>2019.0</td>\n",
       "      <td>5.0</td>\n",
       "    </tr>\n",
       "    <tr>\n",
       "      <th>4393</th>\n",
       "      <td>s4394</td>\n",
       "      <td>Movie</td>\n",
       "      <td>Naked</td>\n",
       "      <td>Michael Tiddes</td>\n",
       "      <td>Marlon Wayans, Regina Hall, Dennis Haysbert, L...</td>\n",
       "      <td>United States</td>\n",
       "      <td>2017-08-11</td>\n",
       "      <td>TV-14</td>\n",
       "      <td>97 min</td>\n",
       "      <td>Comedies, Romantic Movies</td>\n",
       "      <td>Rob's madly in love and about to be married. U...</td>\n",
       "      <td>2017.0</td>\n",
       "      <td>8.0</td>\n",
       "    </tr>\n",
       "    <tr>\n",
       "      <th>4066</th>\n",
       "      <td>s4067</td>\n",
       "      <td>Movie</td>\n",
       "      <td>Michael</td>\n",
       "      <td>Ribhu Dasgupta</td>\n",
       "      <td>Naseeruddin Shah, Mahie Gill, Sabyasachi Chakr...</td>\n",
       "      <td>India</td>\n",
       "      <td>2020-07-05</td>\n",
       "      <td>TV-MA</td>\n",
       "      <td>86 min</td>\n",
       "      <td>Dramas, Independent Movies, International Movies</td>\n",
       "      <td>After a dedicated cop accidentally kills a 12-...</td>\n",
       "      <td>2020.0</td>\n",
       "      <td>7.0</td>\n",
       "    </tr>\n",
       "    <tr>\n",
       "      <th>3263</th>\n",
       "      <td>s3264</td>\n",
       "      <td>TV Show</td>\n",
       "      <td>K-On!</td>\n",
       "      <td>NaN</td>\n",
       "      <td>Aki Toyosaki, Ayana Taketatsu, Chika Fujito, M...</td>\n",
       "      <td>Japan</td>\n",
       "      <td>2019-11-15</td>\n",
       "      <td>TV-PG</td>\n",
       "      <td>2 Seasons</td>\n",
       "      <td>Anime Series, Teen TV Shows</td>\n",
       "      <td>When they're not gorging themselves on sugary ...</td>\n",
       "      <td>2019.0</td>\n",
       "      <td>11.0</td>\n",
       "    </tr>\n",
       "  </tbody>\n",
       "</table>\n",
       "</div>"
      ],
      "text/plain": [
       "     Show_Id Category                Title               Director  \\\n",
       "6914   s6913    Movie  The Sunshine Makers  Cosmo Feilding-Mellen   \n",
       "3508   s3509    Movie                Laatu             Manav Shah   \n",
       "4393   s4394    Movie                Naked         Michael Tiddes   \n",
       "4066   s4067    Movie              Michael         Ribhu Dasgupta   \n",
       "3263   s3264  TV Show                K-On!                    NaN   \n",
       "\n",
       "                                                   Cast         Country  \\\n",
       "6914                                                NaN  United Kingdom   \n",
       "3508  Gagan Kokri, Aditi Sharma, Karamjit Anmol, Sar...           India   \n",
       "4393  Marlon Wayans, Regina Hall, Dennis Haysbert, L...   United States   \n",
       "4066  Naseeruddin Shah, Mahie Gill, Sabyasachi Chakr...           India   \n",
       "3263  Aki Toyosaki, Ayana Taketatsu, Chika Fujito, M...           Japan   \n",
       "\n",
       "     Release_Date Rating   Duration  \\\n",
       "6914   2017-03-09  TV-MA     91 min   \n",
       "3508   2019-05-02  TV-PG    116 min   \n",
       "4393   2017-08-11  TV-14     97 min   \n",
       "4066   2020-07-05  TV-MA     86 min   \n",
       "3263   2019-11-15  TV-PG  2 Seasons   \n",
       "\n",
       "                                                  Type  \\\n",
       "6914               Documentaries, International Movies   \n",
       "3508            Comedies, Dramas, International Movies   \n",
       "4393                         Comedies, Romantic Movies   \n",
       "4066  Dramas, Independent Movies, International Movies   \n",
       "3263                       Anime Series, Teen TV Shows   \n",
       "\n",
       "                                            Description  Release_year  \\\n",
       "6914  Take a trip and witness the rise and fall of T...        2017.0   \n",
       "3508  A man who hopes to bring light to his village ...        2019.0   \n",
       "4393  Rob's madly in love and about to be married. U...        2017.0   \n",
       "4066  After a dedicated cop accidentally kills a 12-...        2020.0   \n",
       "3263  When they're not gorging themselves on sugary ...        2019.0   \n",
       "\n",
       "      Release_month  \n",
       "6914            3.0  \n",
       "3508            5.0  \n",
       "4393            8.0  \n",
       "4066            7.0  \n",
       "3263           11.0  "
      ]
     },
     "execution_count": 104,
     "metadata": {},
     "output_type": "execute_result"
    }
   ],
   "source": [
    "netflix['Release_year'] = netflix['Release_Date'].dt.year\n",
    "netflix['Release_month'] = netflix['Release_Date'].dt.month\n",
    "netflix.sample(5)"
   ]
  },
  {
   "cell_type": "code",
   "execution_count": 122,
   "id": "6cef9c85-745c-4edd-9c71-8f28649dcd4c",
   "metadata": {},
   "outputs": [],
   "source": [
    "movies_by_year = netflix.groupby(by='Release_year', dropna = True)['Release_year'].count()"
   ]
  },
  {
   "cell_type": "code",
   "execution_count": 130,
   "id": "65aaf11b-62ce-40a3-ad04-21d664dd8f36",
   "metadata": {},
   "outputs": [
    {
     "data": {
      "image/png": "[encoded data removed]",
      "text/plain": [
       "<Figure size 640x480 with 1 Axes>"
      ]
     },
     "metadata": {},
     "output_type": "display_data"
    }
   ],
   "source": [
    "plt.plot(movies_by_year.index, movies_by_year.values, marker = 'o', color = 'teal')\n",
    "plt.title(\"Movies released by Year\")\n",
    "plt.xlabel('Release Year')\n",
    "plt.ylabel('Number of movies')\n",
    "plt.show()"
   ]
  },
  {
   "cell_type": "code",
   "execution_count": 134,
   "id": "ff6d6e63-4dcb-419c-b56c-dc2a1e483b02",
   "metadata": {},
   "outputs": [
    {
     "data": {
      "image/png": "[encoded data removed]",
      "text/plain": [
       "<Figure size 640x480 with 1 Axes>"
      ]
     },
     "metadata": {},
     "output_type": "display_data"
    }
   ],
   "source": [
    "movies_by_month = netflix.groupby(dropna=True, by='Release_month')['Release_month'].count()\n",
    "plt.plot(movies_by_month.index, movies_by_month.values, marker = 'o', color = 'teal')\n",
    "plt.title(\"Movies released by month\")\n",
    "plt.xlabel('Release month')\n",
    "plt.ylabel('Number of movies')\n",
    "plt.show()"
   ]
  },
  {
   "cell_type": "markdown",
   "id": "1e78ab69-132e-44d3-9c42-6ceef5a85ec5",
   "metadata": {},
   "source": [
    "## Geographical Distribution"
   ]
  },
  {
   "cell_type": "markdown",
   "id": "33133713-35be-41e5-94cc-35ef63628215",
   "metadata": {},
   "source": [
    "Now, let's dive into the geographical spread of netflix movies/series"
   ]
  },
  {
   "cell_type": "code",
   "execution_count": 182,
   "id": "b177770c-250a-4334-9fb8-ad133b6763bf",
   "metadata": {},
   "outputs": [],
   "source": [
    "import plotly.express as px"
   ]
  },
  {
   "cell_type": "markdown",
   "id": "3a97a960-b0ef-4163-833d-f36adf219364",
   "metadata": {},
   "source": [
    "we need to see the movies/series by country so we'll group the dataset by country and count the number of movie/series for each country."
   ]
  },
  {
   "cell_type": "code",
   "execution_count": 170,
   "id": "5b3ee2b9-0be4-41a0-8ea2-88eaa1ccf597",
   "metadata": {},
   "outputs": [],
   "source": [
    "by_country = netflix.groupby(by = 'Country', dropna = True)['Country'].count()"
   ]
  },
  {
   "cell_type": "code",
   "execution_count": 188,
   "id": "43affc28-4ad6-4f6f-8743-c9470c46b72d",
   "metadata": {},
   "outputs": [
    {
     "data": {
      "application/vnd.plotly.v1+json": {
       "config": {
        "plotlyServerURL": "https://plot.ly"
       },
       "data": [
        {
         "coloraxis": "coloraxis",
         "geo": "geo",
         "hovertemplate": "index=%{location}<br>color=%{z}<extra></extra>",
         "locationmode": "country names",
         "locations": [
          "Argentina",
          "Argentina, Brazil, France, Poland, Germany, Denmark",
          "Argentina, Chile",
          "Argentina, Chile, Peru",
          "Argentina, France",
          "Argentina, France, United States, Germany, Qatar",
          "Argentina, Italy",
          "Argentina, Spain",
          "Argentina, United States",
          "Argentina, United States, Mexico",
          "Argentina, Uruguay, Serbia",
          "Argentina, Uruguay, Spain, France",
          "Australia",
          "Australia, Armenia, Japan, Jordan, Mexico, Mongolia, New Zealand, Philippines, South Africa, Sweden, United States, Uruguay",
          "Australia, Canada",
          "Australia, France",
          "Australia, France, Ireland",
          "Australia, India",
          "Australia, Iraq",
          "Australia, New Zealand",
          "Australia, New Zealand, United States",
          "Australia, United Arab Emirates",
          "Australia, United Kingdom",
          "Australia, United Kingdom, Canada",
          "Australia, United Kingdom, United Arab Emirates, Canada",
          "Australia, United Kingdom, United States, New Zealand, Italy, France",
          "Australia, United States",
          "Austria",
          "Austria, Czech Republic",
          "Austria, Germany",
          "Austria, Iraq, United States",
          "Austria, United States",
          "Bangladesh",
          "Belarus",
          "Belgium",
          "Belgium, France",
          "Belgium, Ireland, Netherlands, Germany, Afghanistan",
          "Belgium, Netherlands",
          "Belgium, United Kingdom, United States",
          "Brazil",
          "Brazil, France",
          "Brazil, France, Germany",
          "Brazil, India, China, United States",
          "Brazil, Netherlands, United States, Colombia, Austria, Germany",
          "Brazil, United Kingdom",
          "Brazil, United States",
          "Bulgaria",
          "Bulgaria, United States",
          "Bulgaria, United States, Spain, Canada",
          "Cambodia",
          "Cambodia, United States",
          "Canada",
          "Canada, Australia",
          "Canada, Belgium",
          "Canada, Brazil",
          "Canada, France",
          "Canada, France, Italy, Morocco, United States",
          "Canada, France, United States",
          "Canada, Germany",
          "Canada, Germany, France, United States",
          "Canada, Germany, South Africa",
          "Canada, Hungary, United States",
          "Canada, India",
          "Canada, India, Thailand, United States, United Arab Emirates",
          "Canada, Ireland, United States",
          "Canada, Japan, Netherlands",
          "Canada, Japan, United States",
          "Canada, Luxembourg",
          "Canada, Mexico, Germany, South Africa",
          "Canada, Nigeria",
          "Canada, Norway",
          "Canada, South Africa",
          "Canada, South Korea, United States",
          "Canada, Spain",
          "Canada, Spain, France",
          "Canada, United Kingdom",
          "Canada, United Kingdom, Netherlands",
          "Canada, United Kingdom, United States",
          "Canada, United States",
          "Canada, United States, Cayman Islands",
          "Canada, United States, France",
          "Canada, United States, Germany",
          "Canada, United States, India, United Kingdom",
          "Canada, United States, Ireland",
          "Canada, United States, United Kingdom",
          "Canada, United States, United Kingdom, France, Luxembourg",
          "Chile",
          "Chile, Argentina",
          "Chile, Argentina, France, Spain, United States",
          "Chile, France",
          "Chile, Italy",
          "Chile, Peru",
          "Chile, Spain, Argentina, Germany",
          "Chile, United States, France",
          "China",
          "China, Canada, United States",
          "China, Germany, India, United States",
          "China, Hong Kong",
          "China, Hong Kong, United States",
          "China, India, Nepal",
          "China, Japan",
          "China, Morocco, Hong Kong",
          "China, South Korea, United States",
          "China, Spain, South Korea, United States",
          "China, Taiwan",
          "China, United Kingdom",
          "China, United States",
          "China, United States, Australia",
          "China, United States, United Kingdom",
          "Colombia",
          "Colombia, Mexico",
          "Colombia, Mexico, United States",
          "Colombia, Peru, United Kingdom",
          "Colombia, United States",
          "Croatia",
          "Croatia, Slovenia, Serbia, Montenegro",
          "Cyprus",
          "Czech Republic, France",
          "Czech Republic, Slovakia",
          "Czech Republic, United Kingdom, France",
          "Czech Republic, United States",
          "Denmark",
          "Denmark, Brazil, France, Portugal, Sweden",
          "Denmark, China",
          "Denmark, France, Belgium, Italy, Netherlands, United States, United Kingdom",
          "Denmark, France, Poland",
          "Denmark, France, United States, Sweden",
          "Denmark, Germany, Belgium, United Kingdom, France",
          "Denmark, Germany, Belgium, United Kingdom, France, Sweden",
          "Denmark, Indonesia, Finland, Norway, United Kingdom, Israel, France, United States, Germany, Netherlands",
          "Denmark, Singapore, Canada, United States",
          "Denmark, Spain",
          "Denmark, Sweden, Israel, United States",
          "Denmark, United Kingdom, South Africa, Sweden, Belgium",
          "Denmark, United Kingdom, Sweden",
          "Denmark, United States",
          "Denmark, Zimbabwe",
          "Egypt",
          "Egypt, Algeria",
          "Egypt, Austria, United States",
          "Egypt, France",
          "Finland",
          "Finland, France",
          "Finland, Germany",
          "Finland, Germany, Belgium",
          "Finland, Sweden, Norway, Latvia, Germany",
          "Finland, United States",
          "France",
          "France, Algeria",
          "France, Australia, Germany",
          "France, Belgium",
          "France, Belgium, China, United States",
          "France, Belgium, Italy",
          "France, Belgium, Luxembourg, Cambodia,",
          "France, Belgium, Luxembourg, Romania, Canada, United States",
          "France, Belgium, Spain",
          "France, Belgium, United States",
          "France, Brazil, Spain, Belgium",
          "France, Canada",
          "France, Canada, Belgium",
          "France, Canada, China, Cambodia",
          "France, Canada, Italy, United States, China",
          "France, Canada, United States",
          "France, China, Japan, United States",
          "France, Egypt",
          "France, Germany",
          "France, Germany, Czech Republic, Belgium",
          "France, Germany, Switzerland",
          "France, Iran, United States",
          "France, Japan",
          "France, Japan, United States",
          "France, Lebanon",
          "France, Lebanon, United Kingdom",
          "France, Luxembourg, Canada",
          "France, Luxembourg, United States",
          "France, Malta, United States",
          "France, Morocco",
          "France, Netherlands, Singapore",
          "France, Netherlands, South Africa, Finland",
          "France, New Zealand",
          "France, Norway, Lebanon, Belgium",
          "France, Qatar",
          "France, Senegal, Belgium",
          "France, South Korea, Japan",
          "France, Switzerland, Spain, United States, United Arab Emirates",
          "France, United Kingdom",
          "France, United Kingdom, India",
          "France, United Kingdom, United States",
          "France, United States",
          "France, United States, Canada",
          "France, United States, Mexico",
          "Georgia",
          "Georgia, Germany, France",
          "Germany",
          "Germany, Australia",
          "Germany, Australia, France, China",
          "Germany, Belgium",
          "Germany, Canada, United States",
          "Germany, China, United Kingdom",
          "Germany, Czech Republic",
          "Germany, France, Luxembourg, United Kingdom, United States",
          "Germany, France, Russia",
          "Germany, France, United States, Canada, United Kingdom",
          "Germany, Italy",
          "Germany, Jordan, Netherlands",
          "Germany, Sri Lanka",
          "Germany, United Kingdom",
          "Germany, United Kingdom, United States",
          "Germany, United States",
          "Germany, United States, Canada",
          "Germany, United States, France",
          "Germany, United States, Hong Kong, Singapore",
          "Germany, United States, Italy",
          "Germany, United States, Sweden",
          "Germany, United States, United Kingdom, Canada",
          "Ghana",
          "Ghana, United States",
          "Greece, United States",
          "Guatemala",
          "Hong Kong",
          "Hong Kong, China",
          "Hong Kong, China, Singapore",
          "Hong Kong, China, United States",
          "Hong Kong, Iceland, United States",
          "Hong Kong, Taiwan",
          "Hong Kong, United States",
          "Hungary",
          "Iceland",
          "Iceland, Sweden, Belgium",
          "India",
          "India, Australia",
          "India, Canada",
          "India, France",
          "India, Germany",
          "India, Germany, Austria",
          "India, Germany, France",
          "India, Iran",
          "India, Japan",
          "India, Malaysia",
          "India, Mexico",
          "India, Nepal",
          "India, Pakistan",
          "India, Soviet Union",
          "India, Switzerland",
          "India, Turkey",
          "India, United Kingdom",
          "India, United Kingdom, Canada, United States",
          "India, United Kingdom, China, Canada, Japan, South Korea, United States",
          "India, United States",
          "Indonesia",
          "Indonesia, Netherlands",
          "Indonesia, Singapore",
          "Indonesia, South Korea, Singapore",
          "Indonesia, United Kingdom",
          "Indonesia, United States",
          "Iran, France",
          "Ireland",
          "Ireland, Canada",
          "Ireland, Canada, Luxembourg, United States, United Kingdom, Philippines, India",
          "Ireland, Canada, United Kingdom, United States",
          "Ireland, Canada, United States, United Kingdom",
          "Ireland, France, Iceland, United States, Mexico, Belgium, United Kingdom, Hong Kong",
          "Ireland, Luxembourg, Belgium",
          "Ireland, South Africa",
          "Ireland, United Kingdom",
          "Ireland, United Kingdom, Greece, France, Netherlands",
          "Ireland, United Kingdom, Italy, United States",
          "Ireland, United Kingdom, United States",
          "Ireland, United States",
          "Ireland, United States, France",
          "Israel",
          "Israel, Germany",
          "Israel, Germany, France",
          "Israel, Germany, Poland, Luxembourg, Belgium, France, United States",
          "Israel, Sweden, Germany, Netherlands",
          "Israel, United States",
          "Italy",
          "Italy, Belgium",
          "Italy, Canada, France",
          "Italy, France",
          "Italy, France, Switzerland",
          "Italy, Germany",
          "Italy, India",
          "Italy, South Africa, West Germany, Australia, United States",
          "Italy, Switzerland, Albania, Poland",
          "Italy, Switzerland, France, Germany",
          "Italy, Turkey",
          "Italy, United Kingdom, France",
          "Italy, United States",
          "Italy, United States, Argentina",
          "Jamaica, United States",
          "Japan",
          "Japan, Canada",
          "Japan, Canada, United States",
          "Japan, United States",
          "Jordan",
          "Kenya",
          "Kenya, United States",
          "Kuwait",
          "Lebanon",
          "Lebanon, Canada, France",
          "Lebanon, France",
          "Lebanon, Qatar",
          "Lebanon, United Arab Emirates, France, Switzerland, Germany",
          "Lebanon, United States, United Arab Emirates",
          "Malaysia",
          "Malaysia, Singapore, Hong Kong",
          "Mauritius, South Africa",
          "Mexico",
          "Mexico, Argentina",
          "Mexico, Finland",
          "Mexico, France",
          "Mexico, Netherlands",
          "Mexico, Spain",
          "Mexico, United States",
          "Mexico, United States, Spain, Colombia",
          "Namibia",
          "Netherlands",
          "Netherlands, Belgium",
          "Netherlands, Belgium, Germany, Jordan",
          "Netherlands, Belgium, United Kingdom, United States",
          "Netherlands, Denmark, France, Germany",
          "Netherlands, Denmark, South Africa",
          "Netherlands, Germany, Denmark, United Kingdom",
          "Netherlands, Germany, Italy, Canada",
          "Netherlands, United States",
          "New Zealand",
          "New Zealand, United Kingdom",
          "New Zealand, United Kingdom, Australia",
          "New Zealand, United States",
          "Nigeria",
          "Nigeria, United Kingdom",
          "Norway",
          "Norway, Denmark",
          "Norway, Denmark, Netherlands, Sweden",
          "Norway, Denmark, Sweden",
          "Norway, Germany",
          "Norway, Germany, Sweden",
          "Norway, Iceland, United States",
          "Norway, Sweden",
          "Norway, United Kingdom, France, Ireland",
          "Norway, United States",
          "Pakistan",
          "Pakistan, Norway, United States",
          "Pakistan, United Arab Emirates",
          "Pakistan, United States",
          "Paraguay, Argentina",
          "Peru",
          "Peru, Germany, Norway",
          "Peru, United States, United Kingdom",
          "Philippines",
          "Philippines, Canada, United Kingdom, United States",
          "Philippines, Qatar",
          "Philippines, Singapore",
          "Philippines, United States",
          "Poland",
          "Poland,",
          "Poland, United States",
          "Poland, West Germany",
          "Portugal, France, Poland, United States",
          "Portugal, Spain",
          "Puerto Rico, United States, Colombia",
          "Romania",
          "Romania, Bulgaria, Hungary",
          "Romania, France, Switzerland, Germany",
          "Romania, United Kingdom",
          "Romania, United States",
          "Russia",
          "Russia, Poland, Serbia",
          "Russia, Spain",
          "Russia, United States",
          "Russia, United States, China",
          "Saudi Arabia",
          "Saudi Arabia, Netherlands, Germany, Jordan, United Arab Emirates, United States",
          "Saudi Arabia, Syria, Egypt, Lebanon, Kuwait",
          "Saudi Arabia, United Arab Emirates",
          "Senegal",
          "Serbia, South Korea, Slovenia",
          "Serbia, United States",
          "Singapore",
          "Singapore, France",
          "Singapore, Japan, France",
          "Singapore, Malaysia",
          "Singapore, United States",
          "Slovenia, Croatia, Germany, Czech Republic, Qatar",
          "Somalia, Kenya, Sudan, South Africa, United States",
          "South Africa",
          "South Africa, Angola",
          "South Africa, China, United States",
          "South Africa, Germany, Netherlands, France",
          "South Africa, Nigeria",
          "South Africa, United States",
          "South Africa, United States, Germany",
          "South Africa, United States, New Zealand, Canada",
          "South Korea",
          "South Korea, Canada, United States, China",
          "South Korea, China",
          "South Korea, China, United States",
          "South Korea, Czech Republic",
          "South Korea, France",
          "South Korea, Japan",
          "South Korea, United States",
          "Soviet Union, India",
          "Spain",
          "Spain, Argentina",
          "Spain, Belgium",
          "Spain, Belgium, Switzerland, United States, China, United Kingdom",
          "Spain, Canada, United States",
          "Spain, Colombia",
          "Spain, Cuba",
          "Spain, France",
          "Spain, France, Canada",
          "Spain, France, Canada, United States",
          "Spain, France, Italy",
          "Spain, France, United States",
          "Spain, France, Uruguay",
          "Spain, Germany",
          "Spain, Germany, Denmark, United States",
          "Spain, Italy",
          "Spain, Italy, Argentina",
          "Spain, Mexico",
          "Spain, Mexico, France",
          "Spain, Portugal",
          "Spain, Switzerland",
          "Spain, Thailand, United States",
          "Spain, United Kingdom",
          "Spain, United Kingdom, United States",
          "Spain, United States",
          "Sweden",
          "Sweden, Czech Republic, United Kingdom, Denmark, Netherlands",
          "Sweden, Netherlands",
          "Sweden, United Kingdom, Finland",
          "Sweden, United States",
          "Switzerland",
          "Switzerland, France",
          "Switzerland, France, Belgium, United States",
          "Switzerland, United Kingdom, United States",
          "Switzerland, United States",
          "Switzerland, Vatican City, Italy, Germany, France",
          "Taiwan",
          "Taiwan, China",
          "Taiwan, China, France, United States",
          "Taiwan, Hong Kong, United States, China",
          "Taiwan, Malaysia",
          "Thailand",
          "Thailand, Canada, United States",
          "Thailand, China, United States",
          "Thailand, United States",
          "Turkey",
          "Turkey, Azerbaijan",
          "Turkey, France, Germany, Poland",
          "Turkey, India",
          "Turkey, South Korea",
          "Turkey, United States",
          "Ukraine",
          "United Arab Emirates",
          "United Arab Emirates, Jordan",
          "United Arab Emirates, Jordan, Lebanon",
          "United Arab Emirates, Romania",
          "United Arab Emirates, United Kingdom, India",
          "United Arab Emirates, United States",
          "United Arab Emirates, United States, United Kingdom",
          "United Kingdom",
          "United Kingdom,",
          "United Kingdom, Australia",
          "United Kingdom, Australia, Canada, United States",
          "United Kingdom, Belgium",
          "United Kingdom, Belgium, Sweden",
          "United Kingdom, Brazil, Germany",
          "United Kingdom, Canada",
          "United Kingdom, Canada, France, United States",
          "United Kingdom, Canada, Italy",
          "United Kingdom, Canada, Japan",
          "United Kingdom, Canada, United States",
          "United Kingdom, Canada, United States, Cayman Islands",
          "United Kingdom, Canada, United States, Germany",
          "United Kingdom, China",
          "United Kingdom, China, United States",
          "United Kingdom, China, United States, India",
          "United Kingdom, Czech Republic, Germany, United States",
          "United Kingdom, Czech Republic, United States, Germany, Bahamas",
          "United Kingdom, Denmark, Canada, Croatia",
          "United Kingdom, Egypt, United States",
          "United Kingdom, Finland, Germany",
          "United Kingdom, France",
          "United Kingdom, France, Belgium",
          "United Kingdom, France, Belgium, Canada, United States",
          "United Kingdom, France, Belgium, United States",
          "United Kingdom, France, Belgium, United States, China",
          "United Kingdom, France, Canada, Belgium, United States",
          "United Kingdom, France, Germany",
          "United Kingdom, France, Germany, Spain",
          "United Kingdom, France, Germany, United States",
          "United Kingdom, France, United States",
          "United Kingdom, France, United States, Belgium",
          "United Kingdom, France, United States, Belgium, Luxembourg, China, Germany",
          "United Kingdom, Germany",
          "United Kingdom, Germany, Canada",
          "United Kingdom, Germany, Canada, United States",
          "United Kingdom, Germany, France, United States",
          "United Kingdom, Germany, United Arab Emirates, New Zealand",
          "United Kingdom, Germany, United States",
          "United Kingdom, Germany, United States, France",
          "United Kingdom, Hong Kong",
          "United Kingdom, Hungary, Australia",
          "United Kingdom, India",
          "United Kingdom, India, Sweden",
          "United Kingdom, India, United States",
          "United Kingdom, Ireland",
          "United Kingdom, Ireland, United States",
          "United Kingdom, Israel, Russia",
          "United Kingdom, Italy",
          "United Kingdom, Italy, Israel, Peru, United States",
          "United Kingdom, Japan, United States",
          "United Kingdom, Jordan, Qatar, Iran",
          "United Kingdom, Kenya",
          "United Kingdom, Lithuania",
          "United Kingdom, Malawi",
          "United Kingdom, Namibia, South Africa, Zimbabwe, United States",
          "United Kingdom, New Zealand",
          "United Kingdom, Nigeria",
          "United Kingdom, Norway, Denmark, Germany, Sweden",
          "United Kingdom, Pakistan",
          "United Kingdom, Poland",
          "United Kingdom, Poland, United States",
          "United Kingdom, Russia",
          "United Kingdom, Russia, United States",
          "United Kingdom, Singapore",
          "United Kingdom, South Africa",
          "United Kingdom, South Africa, Australia, United States",
          "United Kingdom, South Korea",
          "United Kingdom, Spain",
          "United Kingdom, Spain, Belgium",
          "United Kingdom, Spain, United States",
          "United Kingdom, Spain, United States, Germany",
          "United Kingdom, Thailand",
          "United Kingdom, Ukraine, United States",
          "United Kingdom, United States",
          "United Kingdom, United States, Australia",
          "United Kingdom, United States, Canada",
          "United Kingdom, United States, Czech Republic",
          "United Kingdom, United States, Dominican Republic",
          "United Kingdom, United States, France",
          "United Kingdom, United States, France, Germany",
          "United Kingdom, United States, Germany, Denmark, Belgium, Japan",
          "United Kingdom, United States, Japan",
          "United Kingdom, United States, Morocco",
          "United Kingdom, United States, Spain, Germany, Greece, Canada",
          "United Kingdom, West Germany",
          "United States",
          "United States,",
          "United States, Argentina",
          "United States, Australia",
          "United States, Australia, China",
          "United States, Australia, Mexico",
          "United States, Australia, Samoa, United Kingdom",
          "United States, Australia, South Africa, United Kingdom",
          "United States, Belgium, Canada",
          "United States, Bermuda, Ecuador",
          "United States, Botswana",
          "United States, Brazil",
          "United States, Brazil, India, Uganda, China",
          "United States, Brazil, South Korea, Mexico, Japan, Germany",
          "United States, Bulgaria",
          "United States, Cambodia",
          "United States, Canada",
          "United States, Canada, Belgium, United Kingdom",
          "United States, Canada, China",
          "United States, Canada, France",
          "United States, Canada, Germany",
          "United States, Canada, Indonesia, United Kingdom, China, Singapore",
          "United States, Canada, Ireland",
          "United States, Canada, Japan, Panama",
          "United States, Canada, United Kingdom",
          "United States, Chile",
          "United States, Chile, Israel",
          "United States, China",
          "United States, China, Canada",
          "United States, China, Colombia",
          "United States, China, Hong Kong",
          "United States, Colombia",
          "United States, Colombia, Mexico",
          "United States, Czech Republic",
          "United States, Czech Republic, United Kingdom",
          "United States, Denmark",
          "United States, East Germany, West Germany",
          "United States, France",
          "United States, France, Canada",
          "United States, France, Canada, Belgium",
          "United States, France, Canada, Lebanon, Qatar",
          "United States, France, Canada, Spain",
          "United States, France, Italy, United Kingdom",
          "United States, France, Japan",
          "United States, France, Mexico",
          "United States, France, Serbia",
          "United States, France, South Korea, Indonesia",
          "United States, France, United Kingdom, Japan",
          "United States, Germany",
          "United States, Germany, Australia",
          "United States, Germany, Canada",
          "United States, Germany, Mexico",
          "United States, Germany, United Kingdom",
          "United States, Germany, United Kingdom, Australia",
          "United States, Germany, United Kingdom, Italy",
          "United States, Greece",
          "United States, Greece, Brazil",
          "United States, Greece, United Kingdom",
          "United States, Hong Kong",
          "United States, Hungary",
          "United States, Hungary, Ireland, Canada",
          "United States, Iceland",
          "United States, India",
          "United States, India, Bangladesh",
          "United States, India, South Korea, China",
          "United States, India, United Arab Emirates",
          "United States, Indonesia",
          "United States, Ireland",
          "United States, Ireland, United Kingdom, India",
          "United States, Israel, Italy, South Africa",
          "United States, Israel, United Kingdom, Canada",
          "United States, Italy",
          "United States, Italy, United Kingdom, Liechtenstein",
          "United States, Japan",
          "United States, Japan, Canada",
          "United States, Kazakhstan",
          "United States, Malta, France, United Kingdom",
          "United States, Mexico",
          "United States, Mexico, Colombia",
          "United States, Mexico, Spain, Malta",
          "United States, Morocco",
          "United States, Netherlands, Japan, France",
          "United States, New Zealand",
          "United States, New Zealand, Japan",
          "United States, New Zealand, United Kingdom",
          "United States, Nicaragua",
          "United States, Nigeria",
          "United States, Norway, Canada",
          "United States, Philippines",
          "United States, Poland",
          "United States, Russia",
          "United States, Senegal",
          "United States, South Africa",
          "United States, South Korea",
          "United States, South Korea, China",
          "United States, South Korea, Japan",
          "United States, Spain",
          "United States, Spain, Germany",
          "United States, Spain, Italy",
          "United States, Sweden",
          "United States, Sweden, Norway",
          "United States, Taiwan",
          "United States, Thailand",
          "United States, United Arab Emirates",
          "United States, United Kingdom",
          "United States, United Kingdom, Australia",
          "United States, United Kingdom, Canada",
          "United States, United Kingdom, Canada, China",
          "United States, United Kingdom, Canada, Japan",
          "United States, United Kingdom, Denmark, Sweden",
          "United States, United Kingdom, France",
          "United States, United Kingdom, France, Germany, Japan",
          "United States, United Kingdom, Germany",
          "United States, United Kingdom, India",
          "United States, United Kingdom, Italy",
          "United States, United Kingdom, Japan",
          "United States, United Kingdom, Morocco",
          "United States, United Kingdom, Spain, South Korea",
          "United States, Uruguay",
          "United States, Venezuela",
          "Uruguay",
          "Uruguay, Argentina",
          "Uruguay, Argentina, Germany, Spain",
          "Uruguay, Argentina, Spain",
          "Uruguay, Germany",
          "Uruguay, Guatemala",
          "Uruguay, Spain, Mexico",
          "Venezuela",
          "Venezuela, Colombia",
          "Vietnam",
          "West Germany",
          "Zimbabwe"
         ],
         "name": "",
         "type": "choropleth",
         "z": [
          50,
          1,
          1,
          1,
          1,
          1,
          1,
          8,
          1,
          1,
          1,
          1,
          83,
          1,
          2,
          1,
          1,
          1,
          1,
          1,
          1,
          2,
          1,
          1,
          1,
          1,
          10,
          4,
          1,
          1,
          1,
          1,
          2,
          1,
          8,
          3,
          1,
          1,
          1,
          72,
          2,
          1,
          1,
          1,
          1,
          1,
          1,
          3,
          1,
          1,
          1,
          177,
          2,
          1,
          1,
          1,
          1,
          1,
          1,
          1,
          1,
          1,
          2,
          1,
          1,
          1,
          1,
          1,
          1,
          1,
          1,
          1,
          1,
          1,
          1,
          2,
          1,
          2,
          42,
          1,
          2,
          1,
          1,
          1,
          3,
          1,
          14,
          1,
          1,
          1,
          1,
          1,
          1,
          1,
          57,
          2,
          1,
          14,
          1,
          1,
          1,
          1,
          1,
          1,
          1,
          1,
          2,
          1,
          1,
          31,
          1,
          2,
          1,
          1,
          1,
          1,
          1,
          1,
          1,
          1,
          2,
          13,
          1,
          1,
          1,
          1,
          1,
          1,
          1,
          1,
          1,
          1,
          1,
          1,
          1,
          3,
          1,
          101,
          1,
          1,
          2,
          1,
          1,
          1,
          1,
          1,
          1,
          115,
          1,
          1,
          27,
          1,
          1,
          1,
          1,
          1,
          1,
          1,
          3,
          1,
          1,
          1,
          1,
          1,
          3,
          1,
          1,
          1,
          1,
          1,
          1,
          1,
          1,
          1,
          1,
          1,
          1,
          1,
          1,
          1,
          1,
          1,
          1,
          2,
          1,
          1,
          1,
          3,
          6,
          1,
          1,
          1,
          1,
          61,
          1,
          1,
          1,
          1,
          1,
          1,
          1,
          1,
          1,
          1,
          1,
          1,
          2,
          1,
          10,
          1,
          1,
          1,
          1,
          1,
          1,
          3,
          1,
          1,
          1,
          52,
          16,
          1,
          2,
          1,
          1,
          4,
          4,
          4,
          1,
          923,
          1,
          1,
          5,
          2,
          1,
          1,
          1,
          1,
          1,
          1,
          1,
          1,
          2,
          1,
          1,
          1,
          1,
          1,
          9,
          70,
          1,
          2,
          1,
          1,
          1,
          1,
          11,
          1,
          1,
          1,
          1,
          1,
          1,
          1,
          2,
          1,
          1,
          2,
          1,
          1,
          12,
          1,
          1,
          1,
          1,
          3,
          40,
          1,
          1,
          5,
          1,
          1,
          1,
          1,
          1,
          1,
          1,
          1,
          3,
          1,
          1,
          226,
          1,
          1,
          9,
          1,
          2,
          1,
          6,
          14,
          2,
          1,
          1,
          1,
          1,
          22,
          1,
          1,
          100,
          1,
          1,
          1,
          1,
          4,
          14,
          1,
          1,
          16,
          2,
          1,
          1,
          1,
          1,
          1,
          1,
          1,
          11,
          1,
          1,
          2,
          70,
          1,
          11,
          1,
          1,
          1,
          1,
          1,
          1,
          1,
          1,
          1,
          18,
          1,
          1,
          2,
          1,
          4,
          1,
          1,
          71,
          1,
          1,
          1,
          1,
          20,
          1,
          4,
          1,
          1,
          1,
          1,
          6,
          1,
          1,
          1,
          1,
          16,
          1,
          1,
          1,
          1,
          7,
          1,
          1,
          1,
          1,
          1,
          2,
          23,
          1,
          1,
          1,
          2,
          1,
          1,
          25,
          1,
          1,
          1,
          1,
          4,
          1,
          1,
          183,
          1,
          1,
          1,
          1,
          1,
          1,
          5,
          1,
          134,
          2,
          1,
          1,
          1,
          1,
          1,
          5,
          1,
          1,
          1,
          1,
          1,
          3,
          1,
          2,
          1,
          2,
          1,
          1,
          1,
          1,
          2,
          1,
          1,
          10,
          1,
          1,
          1,
          3,
          2,
          1,
          1,
          1,
          1,
          1,
          78,
          1,
          1,
          1,
          1,
          57,
          1,
          1,
          2,
          100,
          1,
          1,
          1,
          1,
          2,
          2,
          12,
          1,
          1,
          1,
          1,
          2,
          1,
          397,
          1,
          1,
          1,
          1,
          1,
          1,
          4,
          1,
          1,
          1,
          6,
          1,
          1,
          1,
          1,
          1,
          1,
          1,
          1,
          1,
          1,
          6,
          1,
          1,
          1,
          1,
          1,
          1,
          1,
          1,
          4,
          1,
          1,
          4,
          1,
          1,
          1,
          1,
          1,
          1,
          1,
          1,
          2,
          1,
          2,
          2,
          1,
          1,
          2,
          1,
          4,
          1,
          1,
          1,
          1,
          1,
          1,
          2,
          1,
          1,
          1,
          1,
          1,
          1,
          1,
          1,
          1,
          1,
          1,
          1,
          1,
          1,
          1,
          1,
          64,
          2,
          1,
          1,
          1,
          1,
          1,
          1,
          1,
          1,
          4,
          1,
          2555,
          1,
          2,
          11,
          1,
          1,
          1,
          1,
          1,
          1,
          1,
          1,
          1,
          1,
          3,
          1,
          60,
          1,
          1,
          1,
          1,
          1,
          1,
          1,
          2,
          2,
          1,
          7,
          1,
          1,
          1,
          1,
          1,
          5,
          1,
          1,
          1,
          14,
          1,
          1,
          1,
          1,
          1,
          6,
          1,
          1,
          1,
          1,
          12,
          1,
          2,
          1,
          1,
          1,
          1,
          2,
          1,
          1,
          3,
          1,
          1,
          1,
          8,
          1,
          1,
          1,
          1,
          3,
          1,
          1,
          1,
          5,
          1,
          13,
          2,
          1,
          1,
          11,
          1,
          1,
          1,
          1,
          3,
          1,
          1,
          1,
          1,
          1,
          1,
          1,
          3,
          1,
          3,
          1,
          2,
          1,
          4,
          1,
          1,
          3,
          1,
          1,
          1,
          3,
          37,
          4,
          1,
          1,
          1,
          1,
          3,
          1,
          2,
          1,
          1,
          1,
          1,
          1,
          1,
          1,
          3,
          1,
          1,
          1,
          1,
          1,
          1,
          1,
          1,
          5,
          1,
          1
         ]
        }
       ],
       "layout": {
        "coloraxis": {
         "colorbar": {
          "title": {
           "text": "color"
          }
         },
         "colorscale": [
          [
           0,
           "#0d0887"
          ],
          [
           0.1111111111111111,
           "#46039f"
          ],
          [
           0.2222222222222222,
           "#7201a8"
          ],
          [
           0.3333333333333333,
           "#9c179e"
          ],
          [
           0.4444444444444444,
           "#bd3786"
          ],
          [
           0.5555555555555556,
           "#d8576b"
          ],
          [
           0.6666666666666666,
           "#ed7953"
          ],
          [
           0.7777777777777778,
           "#fb9f3a"
          ],
          [
           0.8888888888888888,
           "#fdca26"
          ],
          [
           1,
           "#f0f921"
          ]
         ]
        },
        "geo": {
         "center": {},
         "domain": {
          "x": [
           0,
           1
          ],
          "y": [
           0,
           1
          ]
         }
        },
        "legend": {
         "tracegroupgap": 0
        },
        "template": {
         "data": {
          "bar": [
           {
            "error_x": {
             "color": "#2a3f5f"
            },
            "error_y": {
             "color": "#2a3f5f"
            },
            "marker": {
             "line": {
              "color": "#E5ECF6",
              "width": 0.5
             },
             "pattern": {
              "fillmode": "overlay",
              "size": 10,
              "solidity": 0.2
             }
            },
            "type": "bar"
           }
          ],
          "barpolar": [
           {
            "marker": {
             "line": {
              "color": "#E5ECF6",
              "width": 0.5
             },
             "pattern": {
              "fillmode": "overlay",
              "size": 10,
              "solidity": 0.2
             }
            },
            "type": "barpolar"
           }
          ],
          "carpet": [
           {
            "aaxis": {
             "endlinecolor": "#2a3f5f",
             "gridcolor": "white",
             "linecolor": "white",
             "minorgridcolor": "white",
             "startlinecolor": "#2a3f5f"
            },
            "baxis": {
             "endlinecolor": "#2a3f5f",
             "gridcolor": "white",
             "linecolor": "white",
             "minorgridcolor": "white",
             "startlinecolor": "#2a3f5f"
            },
            "type": "carpet"
           }
          ],
          "choropleth": [
           {
            "colorbar": {
             "outlinewidth": 0,
             "ticks": ""
            },
            "type": "choropleth"
           }
          ],
          "contour": [
           {
            "colorbar": {
             "outlinewidth": 0,
             "ticks": ""
            },
            "colorscale": [
             [
              0,
              "#0d0887"
             ],
             [
              0.1111111111111111,
              "#46039f"
             ],
             [
              0.2222222222222222,
              "#7201a8"
             ],
             [
              0.3333333333333333,
              "#9c179e"
             ],
             [
              0.4444444444444444,
              "#bd3786"
             ],
             [
              0.5555555555555556,
              "#d8576b"
             ],
             [
              0.6666666666666666,
              "#ed7953"
             ],
             [
              0.7777777777777778,
              "#fb9f3a"
             ],
             [
              0.8888888888888888,
              "#fdca26"
             ],
             [
              1,
              "#f0f921"
             ]
            ],
            "type": "contour"
           }
          ],
          "contourcarpet": [
           {
            "colorbar": {
             "outlinewidth": 0,
             "ticks": ""
            },
            "type": "contourcarpet"
           }
          ],
          "heatmap": [
           {
            "colorbar": {
             "outlinewidth": 0,
             "ticks": ""
            },
            "colorscale": [
             [
              0,
              "#0d0887"
             ],
             [
              0.1111111111111111,
              "#46039f"
             ],
             [
              0.2222222222222222,
              "#7201a8"
             ],
             [
              0.3333333333333333,
              "#9c179e"
             ],
             [
              0.4444444444444444,
              "#bd3786"
             ],
             [
              0.5555555555555556,
              "#d8576b"
             ],
             [
              0.6666666666666666,
              "#ed7953"
             ],
             [
              0.7777777777777778,
              "#fb9f3a"
             ],
             [
              0.8888888888888888,
              "#fdca26"
             ],
             [
              1,
              "#f0f921"
             ]
            ],
            "type": "heatmap"
           }
          ],
          "heatmapgl": [
           {
            "colorbar": {
             "outlinewidth": 0,
             "ticks": ""
            },
            "colorscale": [
             [
              0,
              "#0d0887"
             ],
             [
              0.1111111111111111,
              "#46039f"
             ],
             [
              0.2222222222222222,
              "#7201a8"
             ],
             [
              0.3333333333333333,
              "#9c179e"
             ],
             [
              0.4444444444444444,
              "#bd3786"
             ],
             [
              0.5555555555555556,
              "#d8576b"
             ],
             [
              0.6666666666666666,
              "#ed7953"
             ],
             [
              0.7777777777777778,
              "#fb9f3a"
             ],
             [
              0.8888888888888888,
              "#fdca26"
             ],
             [
              1,
              "#f0f921"
             ]
            ],
            "type": "heatmapgl"
           }
          ],
          "histogram": [
           {
            "marker": {
             "pattern": {
              "fillmode": "overlay",
              "size": 10,
              "solidity": 0.2
             }
            },
            "type": "histogram"
           }
          ],
          "histogram2d": [
           {
            "colorbar": {
             "outlinewidth": 0,
             "ticks": ""
            },
            "colorscale": [
             [
              0,
              "#0d0887"
             ],
             [
              0.1111111111111111,
              "#46039f"
             ],
             [
              0.2222222222222222,
              "#7201a8"
             ],
             [
              0.3333333333333333,
              "#9c179e"
             ],
             [
              0.4444444444444444,
              "#bd3786"
             ],
             [
              0.5555555555555556,
              "#d8576b"
             ],
             [
              0.6666666666666666,
              "#ed7953"
             ],
             [
              0.7777777777777778,
              "#fb9f3a"
             ],
             [
              0.8888888888888888,
              "#fdca26"
             ],
             [
              1,
              "#f0f921"
             ]
            ],
            "type": "histogram2d"
           }
          ],
          "histogram2dcontour": [
           {
            "colorbar": {
             "outlinewidth": 0,
             "ticks": ""
            },
            "colorscale": [
             [
              0,
              "#0d0887"
             ],
             [
              0.1111111111111111,
              "#46039f"
             ],
             [
              0.2222222222222222,
              "#7201a8"
             ],
             [
              0.3333333333333333,
              "#9c179e"
             ],
             [
              0.4444444444444444,
              "#bd3786"
             ],
             [
              0.5555555555555556,
              "#d8576b"
             ],
             [
              0.6666666666666666,
              "#ed7953"
             ],
             [
              0.7777777777777778,
              "#fb9f3a"
             ],
             [
              0.8888888888888888,
              "#fdca26"
             ],
             [
              1,
              "#f0f921"
             ]
            ],
            "type": "histogram2dcontour"
           }
          ],
          "mesh3d": [
           {
            "colorbar": {
             "outlinewidth": 0,
             "ticks": ""
            },
            "type": "mesh3d"
           }
          ],
          "parcoords": [
           {
            "line": {
             "colorbar": {
              "outlinewidth": 0,
              "ticks": ""
             }
            },
            "type": "parcoords"
           }
          ],
          "pie": [
           {
            "automargin": true,
            "type": "pie"
           }
          ],
          "scatter": [
           {
            "fillpattern": {
             "fillmode": "overlay",
             "size": 10,
             "solidity": 0.2
            },
            "type": "scatter"
           }
          ],
          "scatter3d": [
           {
            "line": {
             "colorbar": {
              "outlinewidth": 0,
              "ticks": ""
             }
            },
            "marker": {
             "colorbar": {
              "outlinewidth": 0,
              "ticks": ""
             }
            },
            "type": "scatter3d"
           }
          ],
          "scattercarpet": [
           {
            "marker": {
             "colorbar": {
              "outlinewidth": 0,
              "ticks": ""
             }
            },
            "type": "scattercarpet"
           }
          ],
          "scattergeo": [
           {
            "marker": {
             "colorbar": {
              "outlinewidth": 0,
              "ticks": ""
             }
            },
            "type": "scattergeo"
           }
          ],
          "scattergl": [
           {
            "marker": {
             "colorbar": {
              "outlinewidth": 0,
              "ticks": ""
             }
            },
            "type": "scattergl"
           }
          ],
          "scattermapbox": [
           {
            "marker": {
             "colorbar": {
              "outlinewidth": 0,
              "ticks": ""
             }
            },
            "type": "scattermapbox"
           }
          ],
          "scatterpolar": [
           {
            "marker": {
             "colorbar": {
              "outlinewidth": 0,
              "ticks": ""
             }
            },
            "type": "scatterpolar"
           }
          ],
          "scatterpolargl": [
           {
            "marker": {
             "colorbar": {
              "outlinewidth": 0,
              "ticks": ""
             }
            },
            "type": "scatterpolargl"
           }
          ],
          "scatterternary": [
           {
            "marker": {
             "colorbar": {
              "outlinewidth": 0,
              "ticks": ""
             }
            },
            "type": "scatterternary"
           }
          ],
          "surface": [
           {
            "colorbar": {
             "outlinewidth": 0,
             "ticks": ""
            },
            "colorscale": [
             [
              0,
              "#0d0887"
             ],
             [
              0.1111111111111111,
              "#46039f"
             ],
             [
              0.2222222222222222,
              "#7201a8"
             ],
             [
              0.3333333333333333,
              "#9c179e"
             ],
             [
              0.4444444444444444,
              "#bd3786"
             ],
             [
              0.5555555555555556,
              "#d8576b"
             ],
             [
              0.6666666666666666,
              "#ed7953"
             ],
             [
              0.7777777777777778,
              "#fb9f3a"
             ],
             [
              0.8888888888888888,
              "#fdca26"
             ],
             [
              1,
              "#f0f921"
             ]
            ],
            "type": "surface"
           }
          ],
          "table": [
           {
            "cells": {
             "fill": {
              "color": "#EBF0F8"
             },
             "line": {
              "color": "white"
             }
            },
            "header": {
             "fill": {
              "color": "#C8D4E3"
             },
             "line": {
              "color": "white"
             }
            },
            "type": "table"
           }
          ]
         },
         "layout": {
          "annotationdefaults": {
           "arrowcolor": "#2a3f5f",
           "arrowhead": 0,
           "arrowwidth": 1
          },
          "autotypenumbers": "strict",
          "coloraxis": {
           "colorbar": {
            "outlinewidth": 0,
            "ticks": ""
           }
          },
          "colorscale": {
           "diverging": [
            [
             0,
             "#8e0152"
            ],
            [
             0.1,
             "#c51b7d"
            ],
            [
             0.2,
             "#de77ae"
            ],
            [
             0.3,
             "#f1b6da"
            ],
            [
             0.4,
             "#fde0ef"
            ],
            [
             0.5,
             "#f7f7f7"
            ],
            [
             0.6,
             "#e6f5d0"
            ],
            [
             0.7,
             "#b8e186"
            ],
            [
             0.8,
             "#7fbc41"
            ],
            [
             0.9,
             "#4d9221"
            ],
            [
             1,
             "#276419"
            ]
           ],
           "sequential": [
            [
             0,
             "#0d0887"
            ],
            [
             0.1111111111111111,
             "#46039f"
            ],
            [
             0.2222222222222222,
             "#7201a8"
            ],
            [
             0.3333333333333333,
             "#9c179e"
            ],
            [
             0.4444444444444444,
             "#bd3786"
            ],
            [
             0.5555555555555556,
             "#d8576b"
            ],
            [
             0.6666666666666666,
             "#ed7953"
            ],
            [
             0.7777777777777778,
             "#fb9f3a"
            ],
            [
             0.8888888888888888,
             "#fdca26"
            ],
            [
             1,
             "#f0f921"
            ]
           ],
           "sequentialminus": [
            [
             0,
             "#0d0887"
            ],
            [
             0.1111111111111111,
             "#46039f"
            ],
            [
             0.2222222222222222,
             "#7201a8"
            ],
            [
             0.3333333333333333,
             "#9c179e"
            ],
            [
             0.4444444444444444,
             "#bd3786"
            ],
            [
             0.5555555555555556,
             "#d8576b"
            ],
            [
             0.6666666666666666,
             "#ed7953"
            ],
            [
             0.7777777777777778,
             "#fb9f3a"
            ],
            [
             0.8888888888888888,
             "#fdca26"
            ],
            [
             1,
             "#f0f921"
            ]
           ]
          },
          "colorway": [
           "#636efa",
           "#EF553B",
           "#00cc96",
           "#ab63fa",
           "#FFA15A",
           "#19d3f3",
           "#FF6692",
           "#B6E880",
           "#FF97FF",
           "#FECB52"
          ],
          "font": {
           "color": "#2a3f5f"
          },
          "geo": {
           "bgcolor": "white",
           "lakecolor": "white",
           "landcolor": "#E5ECF6",
           "showlakes": true,
           "showland": true,
           "subunitcolor": "white"
          },
          "hoverlabel": {
           "align": "left"
          },
          "hovermode": "closest",
          "mapbox": {
           "style": "light"
          },
          "paper_bgcolor": "white",
          "plot_bgcolor": "#E5ECF6",
          "polar": {
           "angularaxis": {
            "gridcolor": "white",
            "linecolor": "white",
            "ticks": ""
           },
           "bgcolor": "#E5ECF6",
           "radialaxis": {
            "gridcolor": "white",
            "linecolor": "white",
            "ticks": ""
           }
          },
          "scene": {
           "xaxis": {
            "backgroundcolor": "#E5ECF6",
            "gridcolor": "white",
            "gridwidth": 2,
            "linecolor": "white",
            "showbackground": true,
            "ticks": "",
            "zerolinecolor": "white"
           },
           "yaxis": {
            "backgroundcolor": "#E5ECF6",
            "gridcolor": "white",
            "gridwidth": 2,
            "linecolor": "white",
            "showbackground": true,
            "ticks": "",
            "zerolinecolor": "white"
           },
           "zaxis": {
            "backgroundcolor": "#E5ECF6",
            "gridcolor": "white",
            "gridwidth": 2,
            "linecolor": "white",
            "showbackground": true,
            "ticks": "",
            "zerolinecolor": "white"
           }
          },
          "shapedefaults": {
           "line": {
            "color": "#2a3f5f"
           }
          },
          "ternary": {
           "aaxis": {
            "gridcolor": "white",
            "linecolor": "white",
            "ticks": ""
           },
           "baxis": {
            "gridcolor": "white",
            "linecolor": "white",
            "ticks": ""
           },
           "bgcolor": "#E5ECF6",
           "caxis": {
            "gridcolor": "white",
            "linecolor": "white",
            "ticks": ""
           }
          },
          "title": {
           "x": 0.05
          },
          "xaxis": {
           "automargin": true,
           "gridcolor": "white",
           "linecolor": "white",
           "ticks": "",
           "title": {
            "standoff": 15
           },
           "zerolinecolor": "white",
           "zerolinewidth": 2
          },
          "yaxis": {
           "automargin": true,
           "gridcolor": "white",
           "linecolor": "white",
           "ticks": "",
           "title": {
            "standoff": 15
           },
           "zerolinecolor": "white",
           "zerolinewidth": 2
          }
         }
        },
        "title": {
         "text": "Geographical Spread of Netflix Movies/Series"
        }
       }
      },
      "image/png": "[encoded data removed]",
      "text/html": [
       "<div>                            <div id=\"84d2e432-ff03-404c-8c60-1a56ced2bc4f\" class=\"plotly-graph-div\" style=\"height:525px; width:100%;\"></div>            <script type=\"text/javascript\">                require([\"plotly\"], function(Plotly) {                    window.PLOTLYENV=window.PLOTLYENV || {};                                    if (document.getElementById(\"84d2e432-ff03-404c-8c60-1a56ced2bc4f\")) {                    Plotly.newPlot(                        \"84d2e432-ff03-404c-8c60-1a56ced2bc4f\",                        [{\"coloraxis\":\"coloraxis\",\"geo\":\"geo\",\"hovertemplate\":\"index=%{location}\\u003cbr\\u003ecolor=%{z}\\u003cextra\\u003e\\u003c\\u002fextra\\u003e\",\"locationmode\":\"country names\",\"locations\":[\"Argentina\",\"Argentina, Brazil, France, Poland, Germany, Denmark\",\"Argentina, Chile\",\"Argentina, Chile, Peru\",\"Argentina, France\",\"Argentina, France, United States, Germany, Qatar\",\"Argentina, Italy\",\"Argentina, Spain\",\"Argentina, United States\",\"Argentina, United States, Mexico\",\"Argentina, Uruguay, Serbia\",\"Argentina, Uruguay, Spain, France\",\"Australia\",\"Australia, Armenia, Japan, Jordan, Mexico, Mongolia, New Zealand, Philippines, South Africa, Sweden, United States, Uruguay\",\"Australia, Canada\",\"Australia, France\",\"Australia, France, Ireland\",\"Australia, India\",\"Australia, Iraq\",\"Australia, New Zealand\",\"Australia, New Zealand, United States\",\"Australia, United Arab Emirates\",\"Australia, United Kingdom\",\"Australia, United Kingdom, Canada\",\"Australia, United Kingdom, United Arab Emirates, Canada\",\"Australia, United Kingdom, United States, New Zealand, Italy, France\",\"Australia, United States\",\"Austria\",\"Austria, Czech Republic\",\"Austria, Germany\",\"Austria, Iraq, United States\",\"Austria, United States\",\"Bangladesh\",\"Belarus\",\"Belgium\",\"Belgium, France\",\"Belgium, Ireland, Netherlands, Germany, Afghanistan\",\"Belgium, Netherlands\",\"Belgium, United Kingdom, United States\",\"Brazil\",\"Brazil, France\",\"Brazil, France, Germany\",\"Brazil, India, China, United States\",\"Brazil, Netherlands, United States, Colombia, Austria, Germany\",\"Brazil, United Kingdom\",\"Brazil, United States\",\"Bulgaria\",\"Bulgaria, United States\",\"Bulgaria, United States, Spain, Canada\",\"Cambodia\",\"Cambodia, United States\",\"Canada\",\"Canada, Australia\",\"Canada, Belgium\",\"Canada, Brazil\",\"Canada, France\",\"Canada, France, Italy, Morocco, United States\",\"Canada, France, United States\",\"Canada, Germany\",\"Canada, Germany, France, United States\",\"Canada, Germany, South Africa\",\"Canada, Hungary, United States\",\"Canada, India\",\"Canada, India, Thailand, United States, United Arab Emirates\",\"Canada, Ireland, United States\",\"Canada, Japan, Netherlands\",\"Canada, Japan, United States\",\"Canada, Luxembourg\",\"Canada, Mexico, Germany, South Africa\",\"Canada, Nigeria\",\"Canada, Norway\",\"Canada, South Africa\",\"Canada, South Korea, United States\",\"Canada, Spain\",\"Canada, Spain, France\",\"Canada, United Kingdom\",\"Canada, United Kingdom, Netherlands\",\"Canada, United Kingdom, United States\",\"Canada, United States\",\"Canada, United States, Cayman Islands\",\"Canada, United States, France\",\"Canada, United States, Germany\",\"Canada, United States, India, United Kingdom\",\"Canada, United States, Ireland\",\"Canada, United States, United Kingdom\",\"Canada, United States, United Kingdom, France, Luxembourg\",\"Chile\",\"Chile, Argentina\",\"Chile, Argentina, France, Spain, United States\",\"Chile, France\",\"Chile, Italy\",\"Chile, Peru\",\"Chile, Spain, Argentina, Germany\",\"Chile, United States, France\",\"China\",\"China, Canada, United States\",\"China, Germany, India, United States\",\"China, Hong Kong\",\"China, Hong Kong, United States\",\"China, India, Nepal\",\"China, Japan\",\"China, Morocco, Hong Kong\",\"China, South Korea, United States\",\"China, Spain, South Korea, United States\",\"China, Taiwan\",\"China, United Kingdom\",\"China, United States\",\"China, United States, Australia\",\"China, United States, United Kingdom\",\"Colombia\",\"Colombia, Mexico\",\"Colombia, Mexico, United States\",\"Colombia, Peru, United Kingdom\",\"Colombia, United States\",\"Croatia\",\"Croatia, Slovenia, Serbia, Montenegro\",\"Cyprus\",\"Czech Republic, France\",\"Czech Republic, Slovakia\",\"Czech Republic, United Kingdom, France\",\"Czech Republic, United States\",\"Denmark\",\"Denmark, Brazil, France, Portugal, Sweden\",\"Denmark, China\",\"Denmark, France, Belgium, Italy, Netherlands, United States, United Kingdom\",\"Denmark, France, Poland\",\"Denmark, France, United States, Sweden\",\"Denmark, Germany, Belgium, United Kingdom, France\",\"Denmark, Germany, Belgium, United Kingdom, France, Sweden\",\"Denmark, Indonesia, Finland, Norway, United Kingdom, Israel, France, United States, Germany, Netherlands\",\"Denmark, Singapore, Canada, United States\",\"Denmark, Spain\",\"Denmark, Sweden, Israel, United States\",\"Denmark, United Kingdom, South Africa, Sweden, Belgium\",\"Denmark, United Kingdom, Sweden\",\"Denmark, United States\",\"Denmark, Zimbabwe\",\"Egypt\",\"Egypt, Algeria\",\"Egypt, Austria, United States\",\"Egypt, France\",\"Finland\",\"Finland, France\",\"Finland, Germany\",\"Finland, Germany, Belgium\",\"Finland, Sweden, Norway, Latvia, Germany\",\"Finland, United States\",\"France\",\"France, Algeria\",\"France, Australia, Germany\",\"France, Belgium\",\"France, Belgium, China, United States\",\"France, Belgium, Italy\",\"France, Belgium, Luxembourg, Cambodia,\",\"France, Belgium, Luxembourg, Romania, Canada, United States\",\"France, Belgium, Spain\",\"France, Belgium, United States\",\"France, Brazil, Spain, Belgium\",\"France, Canada\",\"France, Canada, Belgium\",\"France, Canada, China, Cambodia\",\"France, Canada, Italy, United States, China\",\"France, Canada, United States\",\"France, China, Japan, United States\",\"France, Egypt\",\"France, Germany\",\"France, Germany, Czech Republic, Belgium\",\"France, Germany, Switzerland\",\"France, Iran, United States\",\"France, Japan\",\"France, Japan, United States\",\"France, Lebanon\",\"France, Lebanon, United Kingdom\",\"France, Luxembourg, Canada\",\"France, Luxembourg, United States\",\"France, Malta, United States\",\"France, Morocco\",\"France, Netherlands, Singapore\",\"France, Netherlands, South Africa, Finland\",\"France, New Zealand\",\"France, Norway, Lebanon, Belgium\",\"France, Qatar\",\"France, Senegal, Belgium\",\"France, South Korea, Japan\",\"France, Switzerland, Spain, United States, United Arab Emirates\",\"France, United Kingdom\",\"France, United Kingdom, India\",\"France, United Kingdom, United States\",\"France, United States\",\"France, United States, Canada\",\"France, United States, Mexico\",\"Georgia\",\"Georgia, Germany, France\",\"Germany\",\"Germany, Australia\",\"Germany, Australia, France, China\",\"Germany, Belgium\",\"Germany, Canada, United States\",\"Germany, China, United Kingdom\",\"Germany, Czech Republic\",\"Germany, France, Luxembourg, United Kingdom, United States\",\"Germany, France, Russia\",\"Germany, France, United States, Canada, United Kingdom\",\"Germany, Italy\",\"Germany, Jordan, Netherlands\",\"Germany, Sri Lanka\",\"Germany, United Kingdom\",\"Germany, United Kingdom, United States\",\"Germany, United States\",\"Germany, United States, Canada\",\"Germany, United States, France\",\"Germany, United States, Hong Kong, Singapore\",\"Germany, United States, Italy\",\"Germany, United States, Sweden\",\"Germany, United States, United Kingdom, Canada\",\"Ghana\",\"Ghana, United States\",\"Greece, United States\",\"Guatemala\",\"Hong Kong\",\"Hong Kong, China\",\"Hong Kong, China, Singapore\",\"Hong Kong, China, United States\",\"Hong Kong, Iceland, United States\",\"Hong Kong, Taiwan\",\"Hong Kong, United States\",\"Hungary\",\"Iceland\",\"Iceland, Sweden, Belgium\",\"India\",\"India, Australia\",\"India, Canada\",\"India, France\",\"India, Germany\",\"India, Germany, Austria\",\"India, Germany, France\",\"India, Iran\",\"India, Japan\",\"India, Malaysia\",\"India, Mexico\",\"India, Nepal\",\"India, Pakistan\",\"India, Soviet Union\",\"India, Switzerland\",\"India, Turkey\",\"India, United Kingdom\",\"India, United Kingdom, Canada, United States\",\"India, United Kingdom, China, Canada, Japan, South Korea, United States\",\"India, United States\",\"Indonesia\",\"Indonesia, Netherlands\",\"Indonesia, Singapore\",\"Indonesia, South Korea, Singapore\",\"Indonesia, United Kingdom\",\"Indonesia, United States\",\"Iran, France\",\"Ireland\",\"Ireland, Canada\",\"Ireland, Canada, Luxembourg, United States, United Kingdom, Philippines, India\",\"Ireland, Canada, United Kingdom, United States\",\"Ireland, Canada, United States, United Kingdom\",\"Ireland, France, Iceland, United States, Mexico, Belgium, United Kingdom, Hong Kong\",\"Ireland, Luxembourg, Belgium\",\"Ireland, South Africa\",\"Ireland, United Kingdom\",\"Ireland, United Kingdom, Greece, France, Netherlands\",\"Ireland, United Kingdom, Italy, United States\",\"Ireland, United Kingdom, United States\",\"Ireland, United States\",\"Ireland, United States, France\",\"Israel\",\"Israel, Germany\",\"Israel, Germany, France\",\"Israel, Germany, Poland, Luxembourg, Belgium, France, United States\",\"Israel, Sweden, Germany, Netherlands\",\"Israel, United States\",\"Italy\",\"Italy, Belgium\",\"Italy, Canada, France\",\"Italy, France\",\"Italy, France, Switzerland\",\"Italy, Germany\",\"Italy, India\",\"Italy, South Africa, West Germany, Australia, United States\",\"Italy, Switzerland, Albania, Poland\",\"Italy, Switzerland, France, Germany\",\"Italy, Turkey\",\"Italy, United Kingdom, France\",\"Italy, United States\",\"Italy, United States, Argentina\",\"Jamaica, United States\",\"Japan\",\"Japan, Canada\",\"Japan, Canada, United States\",\"Japan, United States\",\"Jordan\",\"Kenya\",\"Kenya, United States\",\"Kuwait\",\"Lebanon\",\"Lebanon, Canada, France\",\"Lebanon, France\",\"Lebanon, Qatar\",\"Lebanon, United Arab Emirates, France, Switzerland, Germany\",\"Lebanon, United States, United Arab Emirates\",\"Malaysia\",\"Malaysia, Singapore, Hong Kong\",\"Mauritius, South Africa\",\"Mexico\",\"Mexico, Argentina\",\"Mexico, Finland\",\"Mexico, France\",\"Mexico, Netherlands\",\"Mexico, Spain\",\"Mexico, United States\",\"Mexico, United States, Spain, Colombia\",\"Namibia\",\"Netherlands\",\"Netherlands, Belgium\",\"Netherlands, Belgium, Germany, Jordan\",\"Netherlands, Belgium, United Kingdom, United States\",\"Netherlands, Denmark, France, Germany\",\"Netherlands, Denmark, South Africa\",\"Netherlands, Germany, Denmark, United Kingdom\",\"Netherlands, Germany, Italy, Canada\",\"Netherlands, United States\",\"New Zealand\",\"New Zealand, United Kingdom\",\"New Zealand, United Kingdom, Australia\",\"New Zealand, United States\",\"Nigeria\",\"Nigeria, United Kingdom\",\"Norway\",\"Norway, Denmark\",\"Norway, Denmark, Netherlands, Sweden\",\"Norway, Denmark, Sweden\",\"Norway, Germany\",\"Norway, Germany, Sweden\",\"Norway, Iceland, United States\",\"Norway, Sweden\",\"Norway, United Kingdom, France, Ireland\",\"Norway, United States\",\"Pakistan\",\"Pakistan, Norway, United States\",\"Pakistan, United Arab Emirates\",\"Pakistan, United States\",\"Paraguay, Argentina\",\"Peru\",\"Peru, Germany, Norway\",\"Peru, United States, United Kingdom\",\"Philippines\",\"Philippines, Canada, United Kingdom, United States\",\"Philippines, Qatar\",\"Philippines, Singapore\",\"Philippines, United States\",\"Poland\",\"Poland,\",\"Poland, United States\",\"Poland, West Germany\",\"Portugal, France, Poland, United States\",\"Portugal, Spain\",\"Puerto Rico, United States, Colombia\",\"Romania\",\"Romania, Bulgaria, Hungary\",\"Romania, France, Switzerland, Germany\",\"Romania, United Kingdom\",\"Romania, United States\",\"Russia\",\"Russia, Poland, Serbia\",\"Russia, Spain\",\"Russia, United States\",\"Russia, United States, China\",\"Saudi Arabia\",\"Saudi Arabia, Netherlands, Germany, Jordan, United Arab Emirates, United States\",\"Saudi Arabia, Syria, Egypt, Lebanon, Kuwait\",\"Saudi Arabia, United Arab Emirates\",\"Senegal\",\"Serbia, South Korea, Slovenia\",\"Serbia, United States\",\"Singapore\",\"Singapore, France\",\"Singapore, Japan, France\",\"Singapore, Malaysia\",\"Singapore, United States\",\"Slovenia, Croatia, Germany, Czech Republic, Qatar\",\"Somalia, Kenya, Sudan, South Africa, United States\",\"South Africa\",\"South Africa, Angola\",\"South Africa, China, United States\",\"South Africa, Germany, Netherlands, France\",\"South Africa, Nigeria\",\"South Africa, United States\",\"South Africa, United States, Germany\",\"South Africa, United States, New Zealand, Canada\",\"South Korea\",\"South Korea, Canada, United States, China\",\"South Korea, China\",\"South Korea, China, United States\",\"South Korea, Czech Republic\",\"South Korea, France\",\"South Korea, Japan\",\"South Korea, United States\",\"Soviet Union, India\",\"Spain\",\"Spain, Argentina\",\"Spain, Belgium\",\"Spain, Belgium, Switzerland, United States, China, United Kingdom\",\"Spain, Canada, United States\",\"Spain, Colombia\",\"Spain, Cuba\",\"Spain, France\",\"Spain, France, Canada\",\"Spain, France, Canada, United States\",\"Spain, France, Italy\",\"Spain, France, United States\",\"Spain, France, Uruguay\",\"Spain, Germany\",\"Spain, Germany, Denmark, United States\",\"Spain, Italy\",\"Spain, Italy, Argentina\",\"Spain, Mexico\",\"Spain, Mexico, France\",\"Spain, Portugal\",\"Spain, Switzerland\",\"Spain, Thailand, United States\",\"Spain, United Kingdom\",\"Spain, United Kingdom, United States\",\"Spain, United States\",\"Sweden\",\"Sweden, Czech Republic, United Kingdom, Denmark, Netherlands\",\"Sweden, Netherlands\",\"Sweden, United Kingdom, Finland\",\"Sweden, United States\",\"Switzerland\",\"Switzerland, France\",\"Switzerland, France, Belgium, United States\",\"Switzerland, United Kingdom, United States\",\"Switzerland, United States\",\"Switzerland, Vatican City, Italy, Germany, France\",\"Taiwan\",\"Taiwan, China\",\"Taiwan, China, France, United States\",\"Taiwan, Hong Kong, United States, China\",\"Taiwan, Malaysia\",\"Thailand\",\"Thailand, Canada, United States\",\"Thailand, China, United States\",\"Thailand, United States\",\"Turkey\",\"Turkey, Azerbaijan\",\"Turkey, France, Germany, Poland\",\"Turkey, India\",\"Turkey, South Korea\",\"Turkey, United States\",\"Ukraine\",\"United Arab Emirates\",\"United Arab Emirates, Jordan\",\"United Arab Emirates, Jordan, Lebanon\",\"United Arab Emirates, Romania\",\"United Arab Emirates, United Kingdom, India\",\"United Arab Emirates, United States\",\"United Arab Emirates, United States, United Kingdom\",\"United Kingdom\",\"United Kingdom,\",\"United Kingdom, Australia\",\"United Kingdom, Australia, Canada, United States\",\"United Kingdom, Belgium\",\"United Kingdom, Belgium, Sweden\",\"United Kingdom, Brazil, Germany\",\"United Kingdom, Canada\",\"United Kingdom, Canada, France, United States\",\"United Kingdom, Canada, Italy\",\"United Kingdom, Canada, Japan\",\"United Kingdom, Canada, United States\",\"United Kingdom, Canada, United States, Cayman Islands\",\"United Kingdom, Canada, United States, Germany\",\"United Kingdom, China\",\"United Kingdom, China, United States\",\"United Kingdom, China, United States, India\",\"United Kingdom, Czech Republic, Germany, United States\",\"United Kingdom, Czech Republic, United States, Germany, Bahamas\",\"United Kingdom, Denmark, Canada, Croatia\",\"United Kingdom, Egypt, United States\",\"United Kingdom, Finland, Germany\",\"United Kingdom, France\",\"United Kingdom, France, Belgium\",\"United Kingdom, France, Belgium, Canada, United States\",\"United Kingdom, France, Belgium, United States\",\"United Kingdom, France, Belgium, United States, China\",\"United Kingdom, France, Canada, Belgium, United States\",\"United Kingdom, France, Germany\",\"United Kingdom, France, Germany, Spain\",\"United Kingdom, France, Germany, United States\",\"United Kingdom, France, United States\",\"United Kingdom, France, United States, Belgium\",\"United Kingdom, France, United States, Belgium, Luxembourg, China, Germany\",\"United Kingdom, Germany\",\"United Kingdom, Germany, Canada\",\"United Kingdom, Germany, Canada, United States\",\"United Kingdom, Germany, France, United States\",\"United Kingdom, Germany, United Arab Emirates, New Zealand\",\"United Kingdom, Germany, United States\",\"United Kingdom, Germany, United States, France\",\"United Kingdom, Hong Kong\",\"United Kingdom, Hungary, Australia\",\"United Kingdom, India\",\"United Kingdom, India, Sweden\",\"United Kingdom, India, United States\",\"United Kingdom, Ireland\",\"United Kingdom, Ireland, United States\",\"United Kingdom, Israel, Russia\",\"United Kingdom, Italy\",\"United Kingdom, Italy, Israel, Peru, United States\",\"United Kingdom, Japan, United States\",\"United Kingdom, Jordan, Qatar, Iran\",\"United Kingdom, Kenya\",\"United Kingdom, Lithuania\",\"United Kingdom, Malawi\",\"United Kingdom, Namibia, South Africa, Zimbabwe, United States\",\"United Kingdom, New Zealand\",\"United Kingdom, Nigeria\",\"United Kingdom, Norway, Denmark, Germany, Sweden\",\"United Kingdom, Pakistan\",\"United Kingdom, Poland\",\"United Kingdom, Poland, United States\",\"United Kingdom, Russia\",\"United Kingdom, Russia, United States\",\"United Kingdom, Singapore\",\"United Kingdom, South Africa\",\"United Kingdom, South Africa, Australia, United States\",\"United Kingdom, South Korea\",\"United Kingdom, Spain\",\"United Kingdom, Spain, Belgium\",\"United Kingdom, Spain, United States\",\"United Kingdom, Spain, United States, Germany\",\"United Kingdom, Thailand\",\"United Kingdom, Ukraine, United States\",\"United Kingdom, United States\",\"United Kingdom, United States, Australia\",\"United Kingdom, United States, Canada\",\"United Kingdom, United States, Czech Republic\",\"United Kingdom, United States, Dominican Republic\",\"United Kingdom, United States, France\",\"United Kingdom, United States, France, Germany\",\"United Kingdom, United States, Germany, Denmark, Belgium, Japan\",\"United Kingdom, United States, Japan\",\"United Kingdom, United States, Morocco\",\"United Kingdom, United States, Spain, Germany, Greece, Canada\",\"United Kingdom, West Germany\",\"United States\",\"United States,\",\"United States, Argentina\",\"United States, Australia\",\"United States, Australia, China\",\"United States, Australia, Mexico\",\"United States, Australia, Samoa, United Kingdom\",\"United States, Australia, South Africa, United Kingdom\",\"United States, Belgium, Canada\",\"United States, Bermuda, Ecuador\",\"United States, Botswana\",\"United States, Brazil\",\"United States, Brazil, India, Uganda, China\",\"United States, Brazil, South Korea, Mexico, Japan, Germany\",\"United States, Bulgaria\",\"United States, Cambodia\",\"United States, Canada\",\"United States, Canada, Belgium, United Kingdom\",\"United States, Canada, China\",\"United States, Canada, France\",\"United States, Canada, Germany\",\"United States, Canada, Indonesia, United Kingdom, China, Singapore\",\"United States, Canada, Ireland\",\"United States, Canada, Japan, Panama\",\"United States, Canada, United Kingdom\",\"United States, Chile\",\"United States, Chile, Israel\",\"United States, China\",\"United States, China, Canada\",\"United States, China, Colombia\",\"United States, China, Hong Kong\",\"United States, Colombia\",\"United States, Colombia, Mexico\",\"United States, Czech Republic\",\"United States, Czech Republic, United Kingdom\",\"United States, Denmark\",\"United States, East Germany, West Germany\",\"United States, France\",\"United States, France, Canada\",\"United States, France, Canada, Belgium\",\"United States, France, Canada, Lebanon, Qatar\",\"United States, France, Canada, Spain\",\"United States, France, Italy, United Kingdom\",\"United States, France, Japan\",\"United States, France, Mexico\",\"United States, France, Serbia\",\"United States, France, South Korea, Indonesia\",\"United States, France, United Kingdom, Japan\",\"United States, Germany\",\"United States, Germany, Australia\",\"United States, Germany, Canada\",\"United States, Germany, Mexico\",\"United States, Germany, United Kingdom\",\"United States, Germany, United Kingdom, Australia\",\"United States, Germany, United Kingdom, Italy\",\"United States, Greece\",\"United States, Greece, Brazil\",\"United States, Greece, United Kingdom\",\"United States, Hong Kong\",\"United States, Hungary\",\"United States, Hungary, Ireland, Canada\",\"United States, Iceland\",\"United States, India\",\"United States, India, Bangladesh\",\"United States, India, South Korea, China\",\"United States, India, United Arab Emirates\",\"United States, Indonesia\",\"United States, Ireland\",\"United States, Ireland, United Kingdom, India\",\"United States, Israel, Italy, South Africa\",\"United States, Israel, United Kingdom, Canada\",\"United States, Italy\",\"United States, Italy, United Kingdom, Liechtenstein\",\"United States, Japan\",\"United States, Japan, Canada\",\"United States, Kazakhstan\",\"United States, Malta, France, United Kingdom\",\"United States, Mexico\",\"United States, Mexico, Colombia\",\"United States, Mexico, Spain, Malta\",\"United States, Morocco\",\"United States, Netherlands, Japan, France\",\"United States, New Zealand\",\"United States, New Zealand, Japan\",\"United States, New Zealand, United Kingdom\",\"United States, Nicaragua\",\"United States, Nigeria\",\"United States, Norway, Canada\",\"United States, Philippines\",\"United States, Poland\",\"United States, Russia\",\"United States, Senegal\",\"United States, South Africa\",\"United States, South Korea\",\"United States, South Korea, China\",\"United States, South Korea, Japan\",\"United States, Spain\",\"United States, Spain, Germany\",\"United States, Spain, Italy\",\"United States, Sweden\",\"United States, Sweden, Norway\",\"United States, Taiwan\",\"United States, Thailand\",\"United States, United Arab Emirates\",\"United States, United Kingdom\",\"United States, United Kingdom, Australia\",\"United States, United Kingdom, Canada\",\"United States, United Kingdom, Canada, China\",\"United States, United Kingdom, Canada, Japan\",\"United States, United Kingdom, Denmark, Sweden\",\"United States, United Kingdom, France\",\"United States, United Kingdom, France, Germany, Japan\",\"United States, United Kingdom, Germany\",\"United States, United Kingdom, India\",\"United States, United Kingdom, Italy\",\"United States, United Kingdom, Japan\",\"United States, United Kingdom, Morocco\",\"United States, United Kingdom, Spain, South Korea\",\"United States, Uruguay\",\"United States, Venezuela\",\"Uruguay\",\"Uruguay, Argentina\",\"Uruguay, Argentina, Germany, Spain\",\"Uruguay, Argentina, Spain\",\"Uruguay, Germany\",\"Uruguay, Guatemala\",\"Uruguay, Spain, Mexico\",\"Venezuela\",\"Venezuela, Colombia\",\"Vietnam\",\"West Germany\",\"Zimbabwe\"],\"name\":\"\",\"z\":[50,1,1,1,1,1,1,8,1,1,1,1,83,1,2,1,1,1,1,1,1,2,1,1,1,1,10,4,1,1,1,1,2,1,8,3,1,1,1,72,2,1,1,1,1,1,1,3,1,1,1,177,2,1,1,1,1,1,1,1,1,1,2,1,1,1,1,1,1,1,1,1,1,1,1,2,1,2,42,1,2,1,1,1,3,1,14,1,1,1,1,1,1,1,57,2,1,14,1,1,1,1,1,1,1,1,2,1,1,31,1,2,1,1,1,1,1,1,1,1,2,13,1,1,1,1,1,1,1,1,1,1,1,1,1,3,1,101,1,1,2,1,1,1,1,1,1,115,1,1,27,1,1,1,1,1,1,1,3,1,1,1,1,1,3,1,1,1,1,1,1,1,1,1,1,1,1,1,1,1,1,1,1,2,1,1,1,3,6,1,1,1,1,61,1,1,1,1,1,1,1,1,1,1,1,1,2,1,10,1,1,1,1,1,1,3,1,1,1,52,16,1,2,1,1,4,4,4,1,923,1,1,5,2,1,1,1,1,1,1,1,1,2,1,1,1,1,1,9,70,1,2,1,1,1,1,11,1,1,1,1,1,1,1,2,1,1,2,1,1,12,1,1,1,1,3,40,1,1,5,1,1,1,1,1,1,1,1,3,1,1,226,1,1,9,1,2,1,6,14,2,1,1,1,1,22,1,1,100,1,1,1,1,4,14,1,1,16,2,1,1,1,1,1,1,1,11,1,1,2,70,1,11,1,1,1,1,1,1,1,1,1,18,1,1,2,1,4,1,1,71,1,1,1,1,20,1,4,1,1,1,1,6,1,1,1,1,16,1,1,1,1,7,1,1,1,1,1,2,23,1,1,1,2,1,1,25,1,1,1,1,4,1,1,183,1,1,1,1,1,1,5,1,134,2,1,1,1,1,1,5,1,1,1,1,1,3,1,2,1,2,1,1,1,1,2,1,1,10,1,1,1,3,2,1,1,1,1,1,78,1,1,1,1,57,1,1,2,100,1,1,1,1,2,2,12,1,1,1,1,2,1,397,1,1,1,1,1,1,4,1,1,1,6,1,1,1,1,1,1,1,1,1,1,6,1,1,1,1,1,1,1,1,4,1,1,4,1,1,1,1,1,1,1,1,2,1,2,2,1,1,2,1,4,1,1,1,1,1,1,2,1,1,1,1,1,1,1,1,1,1,1,1,1,1,1,1,64,2,1,1,1,1,1,1,1,1,4,1,2555,1,2,11,1,1,1,1,1,1,1,1,1,1,3,1,60,1,1,1,1,1,1,1,2,2,1,7,1,1,1,1,1,5,1,1,1,14,1,1,1,1,1,6,1,1,1,1,12,1,2,1,1,1,1,2,1,1,3,1,1,1,8,1,1,1,1,3,1,1,1,5,1,13,2,1,1,11,1,1,1,1,3,1,1,1,1,1,1,1,3,1,3,1,2,1,4,1,1,3,1,1,1,3,37,4,1,1,1,1,3,1,2,1,1,1,1,1,1,1,3,1,1,1,1,1,1,1,1,5,1,1],\"type\":\"choropleth\"}],                        {\"template\":{\"data\":{\"histogram2dcontour\":[{\"type\":\"histogram2dcontour\",\"colorbar\":{\"outlinewidth\":0,\"ticks\":\"\"},\"colorscale\":[[0.0,\"#0d0887\"],[0.1111111111111111,\"#46039f\"],[0.2222222222222222,\"#7201a8\"],[0.3333333333333333,\"#9c179e\"],[0.4444444444444444,\"#bd3786\"],[0.5555555555555556,\"#d8576b\"],[0.6666666666666666,\"#ed7953\"],[0.7777777777777778,\"#fb9f3a\"],[0.8888888888888888,\"#fdca26\"],[1.0,\"#f0f921\"]]}],\"choropleth\":[{\"type\":\"choropleth\",\"colorbar\":{\"outlinewidth\":0,\"ticks\":\"\"}}],\"histogram2d\":[{\"type\":\"histogram2d\",\"colorbar\":{\"outlinewidth\":0,\"ticks\":\"\"},\"colorscale\":[[0.0,\"#0d0887\"],[0.1111111111111111,\"#46039f\"],[0.2222222222222222,\"#7201a8\"],[0.3333333333333333,\"#9c179e\"],[0.4444444444444444,\"#bd3786\"],[0.5555555555555556,\"#d8576b\"],[0.6666666666666666,\"#ed7953\"],[0.7777777777777778,\"#fb9f3a\"],[0.8888888888888888,\"#fdca26\"],[1.0,\"#f0f921\"]]}],\"heatmap\":[{\"type\":\"heatmap\",\"colorbar\":{\"outlinewidth\":0,\"ticks\":\"\"},\"colorscale\":[[0.0,\"#0d0887\"],[0.1111111111111111,\"#46039f\"],[0.2222222222222222,\"#7201a8\"],[0.3333333333333333,\"#9c179e\"],[0.4444444444444444,\"#bd3786\"],[0.5555555555555556,\"#d8576b\"],[0.6666666666666666,\"#ed7953\"],[0.7777777777777778,\"#fb9f3a\"],[0.8888888888888888,\"#fdca26\"],[1.0,\"#f0f921\"]]}],\"heatmapgl\":[{\"type\":\"heatmapgl\",\"colorbar\":{\"outlinewidth\":0,\"ticks\":\"\"},\"colorscale\":[[0.0,\"#0d0887\"],[0.1111111111111111,\"#46039f\"],[0.2222222222222222,\"#7201a8\"],[0.3333333333333333,\"#9c179e\"],[0.4444444444444444,\"#bd3786\"],[0.5555555555555556,\"#d8576b\"],[0.6666666666666666,\"#ed7953\"],[0.7777777777777778,\"#fb9f3a\"],[0.8888888888888888,\"#fdca26\"],[1.0,\"#f0f921\"]]}],\"contourcarpet\":[{\"type\":\"contourcarpet\",\"colorbar\":{\"outlinewidth\":0,\"ticks\":\"\"}}],\"contour\":[{\"type\":\"contour\",\"colorbar\":{\"outlinewidth\":0,\"ticks\":\"\"},\"colorscale\":[[0.0,\"#0d0887\"],[0.1111111111111111,\"#46039f\"],[0.2222222222222222,\"#7201a8\"],[0.3333333333333333,\"#9c179e\"],[0.4444444444444444,\"#bd3786\"],[0.5555555555555556,\"#d8576b\"],[0.6666666666666666,\"#ed7953\"],[0.7777777777777778,\"#fb9f3a\"],[0.8888888888888888,\"#fdca26\"],[1.0,\"#f0f921\"]]}],\"surface\":[{\"type\":\"surface\",\"colorbar\":{\"outlinewidth\":0,\"ticks\":\"\"},\"colorscale\":[[0.0,\"#0d0887\"],[0.1111111111111111,\"#46039f\"],[0.2222222222222222,\"#7201a8\"],[0.3333333333333333,\"#9c179e\"],[0.4444444444444444,\"#bd3786\"],[0.5555555555555556,\"#d8576b\"],[0.6666666666666666,\"#ed7953\"],[0.7777777777777778,\"#fb9f3a\"],[0.8888888888888888,\"#fdca26\"],[1.0,\"#f0f921\"]]}],\"mesh3d\":[{\"type\":\"mesh3d\",\"colorbar\":{\"outlinewidth\":0,\"ticks\":\"\"}}],\"scatter\":[{\"fillpattern\":{\"fillmode\":\"overlay\",\"size\":10,\"solidity\":0.2},\"type\":\"scatter\"}],\"parcoords\":[{\"type\":\"parcoords\",\"line\":{\"colorbar\":{\"outlinewidth\":0,\"ticks\":\"\"}}}],\"scatterpolargl\":[{\"type\":\"scatterpolargl\",\"marker\":{\"colorbar\":{\"outlinewidth\":0,\"ticks\":\"\"}}}],\"bar\":[{\"error_x\":{\"color\":\"#2a3f5f\"},\"error_y\":{\"color\":\"#2a3f5f\"},\"marker\":{\"line\":{\"color\":\"#E5ECF6\",\"width\":0.5},\"pattern\":{\"fillmode\":\"overlay\",\"size\":10,\"solidity\":0.2}},\"type\":\"bar\"}],\"scattergeo\":[{\"type\":\"scattergeo\",\"marker\":{\"colorbar\":{\"outlinewidth\":0,\"ticks\":\"\"}}}],\"scatterpolar\":[{\"type\":\"scatterpolar\",\"marker\":{\"colorbar\":{\"outlinewidth\":0,\"ticks\":\"\"}}}],\"histogram\":[{\"marker\":{\"pattern\":{\"fillmode\":\"overlay\",\"size\":10,\"solidity\":0.2}},\"type\":\"histogram\"}],\"scattergl\":[{\"type\":\"scattergl\",\"marker\":{\"colorbar\":{\"outlinewidth\":0,\"ticks\":\"\"}}}],\"scatter3d\":[{\"type\":\"scatter3d\",\"line\":{\"colorbar\":{\"outlinewidth\":0,\"ticks\":\"\"}},\"marker\":{\"colorbar\":{\"outlinewidth\":0,\"ticks\":\"\"}}}],\"scattermapbox\":[{\"type\":\"scattermapbox\",\"marker\":{\"colorbar\":{\"outlinewidth\":0,\"ticks\":\"\"}}}],\"scatterternary\":[{\"type\":\"scatterternary\",\"marker\":{\"colorbar\":{\"outlinewidth\":0,\"ticks\":\"\"}}}],\"scattercarpet\":[{\"type\":\"scattercarpet\",\"marker\":{\"colorbar\":{\"outlinewidth\":0,\"ticks\":\"\"}}}],\"carpet\":[{\"aaxis\":{\"endlinecolor\":\"#2a3f5f\",\"gridcolor\":\"white\",\"linecolor\":\"white\",\"minorgridcolor\":\"white\",\"startlinecolor\":\"#2a3f5f\"},\"baxis\":{\"endlinecolor\":\"#2a3f5f\",\"gridcolor\":\"white\",\"linecolor\":\"white\",\"minorgridcolor\":\"white\",\"startlinecolor\":\"#2a3f5f\"},\"type\":\"carpet\"}],\"table\":[{\"cells\":{\"fill\":{\"color\":\"#EBF0F8\"},\"line\":{\"color\":\"white\"}},\"header\":{\"fill\":{\"color\":\"#C8D4E3\"},\"line\":{\"color\":\"white\"}},\"type\":\"table\"}],\"barpolar\":[{\"marker\":{\"line\":{\"color\":\"#E5ECF6\",\"width\":0.5},\"pattern\":{\"fillmode\":\"overlay\",\"size\":10,\"solidity\":0.2}},\"type\":\"barpolar\"}],\"pie\":[{\"automargin\":true,\"type\":\"pie\"}]},\"layout\":{\"autotypenumbers\":\"strict\",\"colorway\":[\"#636efa\",\"#EF553B\",\"#00cc96\",\"#ab63fa\",\"#FFA15A\",\"#19d3f3\",\"#FF6692\",\"#B6E880\",\"#FF97FF\",\"#FECB52\"],\"font\":{\"color\":\"#2a3f5f\"},\"hovermode\":\"closest\",\"hoverlabel\":{\"align\":\"left\"},\"paper_bgcolor\":\"white\",\"plot_bgcolor\":\"#E5ECF6\",\"polar\":{\"bgcolor\":\"#E5ECF6\",\"angularaxis\":{\"gridcolor\":\"white\",\"linecolor\":\"white\",\"ticks\":\"\"},\"radialaxis\":{\"gridcolor\":\"white\",\"linecolor\":\"white\",\"ticks\":\"\"}},\"ternary\":{\"bgcolor\":\"#E5ECF6\",\"aaxis\":{\"gridcolor\":\"white\",\"linecolor\":\"white\",\"ticks\":\"\"},\"baxis\":{\"gridcolor\":\"white\",\"linecolor\":\"white\",\"ticks\":\"\"},\"caxis\":{\"gridcolor\":\"white\",\"linecolor\":\"white\",\"ticks\":\"\"}},\"coloraxis\":{\"colorbar\":{\"outlinewidth\":0,\"ticks\":\"\"}},\"colorscale\":{\"sequential\":[[0.0,\"#0d0887\"],[0.1111111111111111,\"#46039f\"],[0.2222222222222222,\"#7201a8\"],[0.3333333333333333,\"#9c179e\"],[0.4444444444444444,\"#bd3786\"],[0.5555555555555556,\"#d8576b\"],[0.6666666666666666,\"#ed7953\"],[0.7777777777777778,\"#fb9f3a\"],[0.8888888888888888,\"#fdca26\"],[1.0,\"#f0f921\"]],\"sequentialminus\":[[0.0,\"#0d0887\"],[0.1111111111111111,\"#46039f\"],[0.2222222222222222,\"#7201a8\"],[0.3333333333333333,\"#9c179e\"],[0.4444444444444444,\"#bd3786\"],[0.5555555555555556,\"#d8576b\"],[0.6666666666666666,\"#ed7953\"],[0.7777777777777778,\"#fb9f3a\"],[0.8888888888888888,\"#fdca26\"],[1.0,\"#f0f921\"]],\"diverging\":[[0,\"#8e0152\"],[0.1,\"#c51b7d\"],[0.2,\"#de77ae\"],[0.3,\"#f1b6da\"],[0.4,\"#fde0ef\"],[0.5,\"#f7f7f7\"],[0.6,\"#e6f5d0\"],[0.7,\"#b8e186\"],[0.8,\"#7fbc41\"],[0.9,\"#4d9221\"],[1,\"#276419\"]]},\"xaxis\":{\"gridcolor\":\"white\",\"linecolor\":\"white\",\"ticks\":\"\",\"title\":{\"standoff\":15},\"zerolinecolor\":\"white\",\"automargin\":true,\"zerolinewidth\":2},\"yaxis\":{\"gridcolor\":\"white\",\"linecolor\":\"white\",\"ticks\":\"\",\"title\":{\"standoff\":15},\"zerolinecolor\":\"white\",\"automargin\":true,\"zerolinewidth\":2},\"scene\":{\"xaxis\":{\"backgroundcolor\":\"#E5ECF6\",\"gridcolor\":\"white\",\"linecolor\":\"white\",\"showbackground\":true,\"ticks\":\"\",\"zerolinecolor\":\"white\",\"gridwidth\":2},\"yaxis\":{\"backgroundcolor\":\"#E5ECF6\",\"gridcolor\":\"white\",\"linecolor\":\"white\",\"showbackground\":true,\"ticks\":\"\",\"zerolinecolor\":\"white\",\"gridwidth\":2},\"zaxis\":{\"backgroundcolor\":\"#E5ECF6\",\"gridcolor\":\"white\",\"linecolor\":\"white\",\"showbackground\":true,\"ticks\":\"\",\"zerolinecolor\":\"white\",\"gridwidth\":2}},\"shapedefaults\":{\"line\":{\"color\":\"#2a3f5f\"}},\"annotationdefaults\":{\"arrowcolor\":\"#2a3f5f\",\"arrowhead\":0,\"arrowwidth\":1},\"geo\":{\"bgcolor\":\"white\",\"landcolor\":\"#E5ECF6\",\"subunitcolor\":\"white\",\"showland\":true,\"showlakes\":true,\"lakecolor\":\"white\"},\"title\":{\"x\":0.05},\"mapbox\":{\"style\":\"light\"}}},\"geo\":{\"domain\":{\"x\":[0.0,1.0],\"y\":[0.0,1.0]},\"center\":{}},\"coloraxis\":{\"colorbar\":{\"title\":{\"text\":\"color\"}},\"colorscale\":[[0.0,\"#0d0887\"],[0.1111111111111111,\"#46039f\"],[0.2222222222222222,\"#7201a8\"],[0.3333333333333333,\"#9c179e\"],[0.4444444444444444,\"#bd3786\"],[0.5555555555555556,\"#d8576b\"],[0.6666666666666666,\"#ed7953\"],[0.7777777777777778,\"#fb9f3a\"],[0.8888888888888888,\"#fdca26\"],[1.0,\"#f0f921\"]]},\"legend\":{\"tracegroupgap\":0},\"title\":{\"text\":\"Geographical Spread of Netflix Movies\\u002fSeries\"}},                        {\"responsive\": true}                    ).then(function(){\n",
       "                            \n",
       "var gd = document.getElementById('84d2e432-ff03-404c-8c60-1a56ced2bc4f');\n",
       "var x = new MutationObserver(function (mutations, observer) {{\n",
       "        var display = window.getComputedStyle(gd).display;\n",
       "        if (!display || display === 'none') {{\n",
       "            console.log([gd, 'removed!']);\n",
       "            Plotly.purge(gd);\n",
       "            observer.disconnect();\n",
       "        }}\n",
       "}});\n",
       "\n",
       "// Listen for the removal of the full notebook cells\n",
       "var notebookContainer = gd.closest('#notebook-container');\n",
       "if (notebookContainer) {{\n",
       "    x.observe(notebookContainer, {childList: true});\n",
       "}}\n",
       "\n",
       "// Listen for the clearing of the current output cell\n",
       "var outputEl = gd.closest('.output');\n",
       "if (outputEl) {{\n",
       "    x.observe(outputEl, {childList: true});\n",
       "}}\n",
       "\n",
       "                        })                };                });            </script>        </div>"
      ]
     },
     "metadata": {},
     "output_type": "display_data"
    }
   ],
   "source": [
    "fig = px.choropleth(\n",
    "    by_country,\n",
    "    locations = by_country.index,\n",
    "    locationmode = 'country names',\n",
    "    color = by_country.values,\n",
    "    title = 'Geographical Spread of Netflix Movies/Series',\n",
    ")\n",
    "\n",
    "fig.show()"
   ]
  },
  {
   "cell_type": "code",
   "execution_count": null,
   "id": "1a89acff-e4e2-4c9c-a32c-64bf27e6fee1",
   "metadata": {},
   "outputs": [],
   "source": []
  }
 ],
 "metadata": {
  "kernelspec": {
   "display_name": "Python [conda env:base] *",
   "language": "python",
   "name": "conda-base-py"
  },
  "language_info": {
   "codemirror_mode": {
    "name": "ipython",
    "version": 3
   },
   "file_extension": ".py",
   "mimetype": "text/x-python",
   "name": "python",
   "nbconvert_exporter": "python",
   "pygments_lexer": "ipython3",
   "version": "3.12.3"
  }
 },
 "nbformat": 4,
 "nbformat_minor": 5
}
